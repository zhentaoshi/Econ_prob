{
 "cells": [
  {
   "attachments": {},
   "cell_type": "markdown",
   "metadata": {
    "pycharm": {
     "name": "#%% md\n"
    }
   },
   "source": [
    "# Probability\n"
   ]
  },
  {
   "cell_type": "markdown",
   "metadata": {},
   "source": [
    "玄之又玄，众妙之门"
   ]
  },
  {
   "attachments": {},
   "cell_type": "markdown",
   "metadata": {},
   "source": [
    "\n",
    "Probability theory talks about the construction and implications of probability models. For example, given a probability distribution, what are the mean and variance? What is the distribution of a transformed random variable? In computer simulations, probability theory tells us what will happen to the generated realizations, in particular when the experiments can be repeated as many times as the researcher wishes. This is a real-world analogue of the frequentist's interpretation of probability."
   ]
  },
  {
   "attachments": {},
   "cell_type": "markdown",
   "metadata": {
    "pycharm": {
     "name": "#%% md\n"
    }
   },
   "source": [
    "## Probability Space\n",
    "\n",
    "\n",
    "A *sample space* $\\Omega$ is a collection of all possible outcomes. It is a set of things.\n",
    "\n",
    "An *event* $A$ is a subset of $\\Omega$. It is something of interest on the sample space.\n",
    "\n",
    "A $\\sigma$-*field* is a complete set of events that include all countable unions, intersections, and differences.\n",
    "It is a well-organized structure built on the sample space. "
   ]
  },
  {
   "attachments": {},
   "cell_type": "markdown",
   "metadata": {
    "pycharm": {
     "name": "#%% md\n"
    }
   },
   "source": [
    "A *probability measure* satisfies\n",
    "\n",
    "* (positiveness) $P\\left(A\\right)\\geq0$ for all events;\n",
    "* (countable additivity) If $A_{i}$, $i\\in\\mathbb{N}$, \n",
    "are mutually disjoint, then\n",
    "$P\\left(\\bigcup_{i\\in\\mathbb{N}}A_{i}\\right)=\\sum_{i\\in\\mathbb{N}} P \\left(A_{i}\\right).$\n",
    "* $P(\\Omega) = 1$.\n",
    "\n"
   ]
  },
  {
   "attachments": {},
   "cell_type": "markdown",
   "metadata": {
    "pycharm": {
     "name": "#%% md\n"
    }
   },
   "source": [
    "The above construction gives a mathematically well-defined probability measure, but we have not yet\n",
    "answered \"How to assign the probability?\"\n",
    "\n",
    "There are two major schools of thinking on probability assignment. One is\n",
    "the *frequentist*, who considers probability as the average chance of occurrence if a large number of experiments\n",
    "are carried out. The other is the *Bayesian*, who deems probability as a subjective brief.\n",
    "The principles of these two schools are largely incompatible, while each school has\n",
    "peculiar pros and cons under different real-world contexts."
   ]
  },
  {
   "cell_type": "markdown",
   "metadata": {},
   "source": [
    "**Questions for AI**\n",
    "\n",
    "* Why do we need \"measure theory\" to define probability?\n",
    "* What is the Vitali set?"
   ]
  },
  {
   "attachments": {},
   "cell_type": "markdown",
   "metadata": {
    "pycharm": {
     "name": "#%% md\n"
    }
   },
   "source": [
    "## Random Variable\n",
    "\n",
    "A *random variable* maps an event to a real number. If the outcome is multivariate, we call it a *random vector*.\n"
   ]
  },
  {
   "attachments": {},
   "cell_type": "markdown",
   "metadata": {
    "pycharm": {
     "name": "#%% md\n"
    }
   },
   "source": [
    "**Data example**\n",
    "\n",
    "Data source: [HK top 300 Youtubers](https://www.kaggle.com/datasets/patriotboy112/hks-top-300-youtubers). We look at the number of uploaded videos in these accounts."
   ]
  },
  {
   "cell_type": "code",
   "execution_count": 1,
   "metadata": {},
   "outputs": [
    {
     "name": "stdout",
     "output_type": "stream",
     "text": [
      "     rank                                           Youtuber subscribers  \\\n",
      "0       1                          Shadow MusicShadow Music    7,690,000   \n",
      "1       2                                  Emi WongEmi Wong    4,870,000   \n",
      "2       3                                iQIYI 爱奇艺iQIYI 爱奇艺    4,010,000   \n",
      "3       4  South China Morning PostSouth China Morning Post    2,650,000   \n",
      "4       5                                      GEM鄧紫棋GEM鄧紫棋    2,520,000   \n",
      "..    ...                                                ...         ...   \n",
      "295   296                          Jessica WongJessica Wong       69,000   \n",
      "296   297                                          昼与白鲸昼与白鲸       68,700   \n",
      "297   298                                        后宫冷婶儿后宫冷婶儿       68,600   \n",
      "298   299                              CatGirl貓女孩CatGirl貓女孩       68,200   \n",
      "299   300                                    男人EEETV男人EEETV       66,400   \n",
      "\n",
      "       video views video count          category  started  \n",
      "0    3,665,970,114       1,144    People & Blogs     2017  \n",
      "1      607,656,993         390    People & Blogs     2014  \n",
      "2    1,744,552,001       9,740  Film & Animation     2015  \n",
      "3    2,612,265,071      11,376   News & Politics     2007  \n",
      "4    1,752,111,944          77    People & Blogs     2019  \n",
      "..             ...         ...               ...      ...  \n",
      "295      3,008,911          80     Howto & Style     2014  \n",
      "296     18,950,918         156  Film & Animation     2020  \n",
      "297     43,142,355         323     Howto & Style     2020  \n",
      "298              0           0     Entertainment     2015  \n",
      "299      7,627,706         147            Comedy     2018  \n",
      "\n",
      "[300 rows x 7 columns]\n"
     ]
    }
   ],
   "source": [
    "import pandas as pd\n",
    "\n",
    "# Reading the CSV file\n",
    "d0 = pd.read_csv(\"HKTop300YouTubers.csv\")\n",
    "print(d0)\n"
   ]
  },
  {
   "cell_type": "code",
   "execution_count": 2,
   "metadata": {
    "pycharm": {
     "name": "#%%\n"
    }
   },
   "outputs": [
    {
     "name": "stdout",
     "output_type": "stream",
     "text": [
      "          subs           view   count\n",
      "0    7,690,000  3,665,970,114   1,144\n",
      "1    4,870,000    607,656,993     390\n",
      "2    4,010,000  1,744,552,001   9,740\n",
      "3    2,650,000  2,612,265,071  11,376\n",
      "4    2,520,000  1,752,111,944      77\n",
      "..         ...            ...     ...\n",
      "295     69,000      3,008,911      80\n",
      "296     68,700     18,950,918     156\n",
      "297     68,600     43,142,355     323\n",
      "298     68,200              0       0\n",
      "299     66,400      7,627,706     147\n",
      "\n",
      "[294 rows x 3 columns]\n"
     ]
    }
   ],
   "source": [
    "# Remove NA and zeros by replacing zeros with NaN and then dropping rows with any NaN values\n",
    "d0.replace(0, pd.NA, inplace=True)\n",
    "d0.dropna(inplace=True)\n",
    "\n",
    "# Select columns 3 to 5 (Python uses 0-based indexing, adjust accordingly)\n",
    "d1 = d0.iloc[:, 2:5].copy()\n",
    "\n",
    "# Rename columns\n",
    "d1.columns = [\"subs\", \"view\", \"count\"] # \"count\" is the number of videos uploaded\n",
    "print( d1 )"
   ]
  },
  {
   "cell_type": "code",
   "execution_count": 3,
   "metadata": {},
   "outputs": [
    {
     "name": "stdout",
     "output_type": "stream",
     "text": [
      "        subs        view  count\n",
      "0    7690000  3665970114   1144\n",
      "1    4870000   607656993    390\n",
      "2    4010000  1744552001   9740\n",
      "3    2650000  2612265071  11376\n",
      "4    2520000  1752111944     77\n",
      "..       ...         ...    ...\n",
      "295    69000     3008911     80\n",
      "296    68700    18950918    156\n",
      "297    68600    43142355    323\n",
      "298    68200           0      0\n",
      "299    66400     7627706    147\n",
      "\n",
      "[294 rows x 3 columns]\n"
     ]
    }
   ],
   "source": [
    "# convert string into numbers\n",
    "for column in d1.columns:\n",
    "    d1[column] = pd.to_numeric(d1[column].str.replace(',', ''), errors='coerce')\n",
    "\n",
    "print(d1)"
   ]
  },
  {
   "cell_type": "code",
   "execution_count": 4,
   "metadata": {
    "pycharm": {
     "name": "#%%\n"
    }
   },
   "outputs": [
    {
     "data": {
      "text/plain": [
       "0       1144\n",
       "1        390\n",
       "2       9740\n",
       "3      11376\n",
       "4         77\n",
       "       ...  \n",
       "295       80\n",
       "296      156\n",
       "297      323\n",
       "298        0\n",
       "299      147\n",
       "Name: count, Length: 294, dtype: int64"
      ]
     },
     "execution_count": 4,
     "metadata": {},
     "output_type": "execute_result"
    }
   ],
   "source": [
    "d1[\"count\"]"
   ]
  },
  {
   "cell_type": "code",
   "execution_count": 5,
   "metadata": {},
   "outputs": [],
   "source": [
    "import numpy as np\n",
    "\n",
    "# if any value is zero, remove the row\n",
    "d1 = d1[(d1 != 0).all(axis=1)]\n",
    "d1_log= np.log(d1)"
   ]
  },
  {
   "cell_type": "code",
   "execution_count": 6,
   "metadata": {},
   "outputs": [
    {
     "data": {
      "image/png": "[encoded data removed]",
      "text/plain": [
       "<Figure size 640x480 with 1 Axes>"
      ]
     },
     "metadata": {},
     "output_type": "display_data"
    }
   ],
   "source": [
    "import matplotlib.pyplot as plt\n",
    "\n",
    "# Plotting histogram of the 'count' column after log transformation\n",
    "plt.hist(d1_log['count'], bins='auto')  # 'auto' lets matplotlib decide the number of bins\n",
    "plt.title('Histogram')\n",
    "plt.xlabel('Log(Count)')\n",
    "plt.ylabel('Frequency')\n",
    "plt.show()"
   ]
  },
  {
   "attachments": {},
   "cell_type": "markdown",
   "metadata": {
    "pycharm": {
     "name": "#%% md\n"
    }
   },
   "source": [
    "## Distribution Function\n",
    "\n",
    "We go back to some terminologies we learned in an undergraduate\n",
    "probability course. A *(cumulative) distribution function*\n",
    "$F:\\mathbb{R}\\mapsto [0,1]$ is defined as\n",
    "\n",
    "$$\n",
    "F\\left(x\\right)=P\\left(X\\leq x\\right).\n",
    "$$\n",
    "It is often abbreviated as CDF, and it has the following properties.\n",
    "\n",
    "* $\\lim_{x\\to-\\infty}F\\left(x\\right)=0$,\n",
    "* $\\lim_{x\\to\\infty}F\\left(x\\right)=1$,\n",
    "* non-decreasing,\n",
    "* right-continuous $\\lim_{y\\to x^{+}}F\\left(y\\right)=F\\left(x\\right).$"
   ]
  },
  {
   "cell_type": "code",
   "execution_count": 7,
   "metadata": {},
   "outputs": [
    {
     "name": "stderr",
     "output_type": "stream",
     "text": [
      "'[]' is not recognized as an internal or external command,\n",
      "operable program or batch file.\n"
     ]
    },
    {
     "data": {
      "image/png": "[encoded data removed]",
      "text/plain": [
       "<Figure size 640x480 with 1 Axes>"
      ]
     },
     "metadata": {},
     "output_type": "display_data"
    }
   ],
   "source": [
    "![](eTMsk2kyfPdEwwJioTRKnedkY2xUFvz1.svg)\n",
    "# Calculate the ECDF for the 'count' column\n",
    "x = np.sort(d1_log['count'])\n",
    "y = np.arange(1, len(x)+1) / len(x)\n",
    "\n",
    "# Plot the ECDF as a step plot\n",
    "plt.step(x, y, where='post')\n",
    "plt.xlabel('Log(Count)')\n",
    "plt.ylabel('ECDF')\n",
    "plt.title('ECDF of log-transformed \"count\"')\n",
    "plt.show()"
   ]
  },
  {
   "attachments": {},
   "cell_type": "markdown",
   "metadata": {
    "pycharm": {
     "name": "#%% md\n"
    }
   },
   "source": [
    "The $q$-th quantile of a random variable is $\\min_{x\\in \\mathbb R} P(X \\leq x) \\geq q$."
   ]
  },
  {
   "cell_type": "code",
   "execution_count": 8,
   "metadata": {},
   "outputs": [
    {
     "data": {
      "text/plain": [
       "0.25     5.087596\n",
       "0.50     5.899897\n",
       "0.75     7.107425\n",
       "1.00    11.164587\n",
       "Name: count, dtype: float64"
      ]
     },
     "execution_count": 8,
     "metadata": {},
     "output_type": "execute_result"
    }
   ],
   "source": [
    "d1_log['count'].quantile([0.25, 0.5, 0.75, 1.0])"
   ]
  },
  {
   "attachments": {},
   "cell_type": "markdown",
   "metadata": {
    "pycharm": {
     "name": "#%% md\n"
    }
   },
   "source": [
    "\n",
    "For a continuous distribution, if its CDF is differentiable, then \n",
    "\n",
    "$$\n",
    "f(x) = d F\\left(x\\right) / d x\n",
    "$$\n",
    "\n",
    "is called the *probability density function* of $X$, often abbreviated as PDF.\n",
    "It is easy to show that $f\\left(x\\right)\\geq0$, and by the Leibniz integral rule\n",
    "    $\\int_{a}^{b}f\\left(x\\right)dx=F\\left(b\\right)-F\\left(a\\right)$.\n",
    "\n",
    "For a discrete random variable, its CDF is obviously non-differentiable at any jump points. \n",
    "In this case, we define the *probability mass function* $f(x) = F(x) - \\lim_{y \\to x^{-}} F(y)$.\n"
   ]
  },
  {
   "attachments": {},
   "cell_type": "markdown",
   "metadata": {
    "pycharm": {
     "name": "#%% md\n"
    }
   },
   "source": [
    "We have learned many parametric distributions. A parametric distribution can be completely \n",
    "characterized by a few parameters."
   ]
  },
  {
   "attachments": {},
   "cell_type": "markdown",
   "metadata": {
    "pycharm": {
     "name": "#%% md\n"
    }
   },
   "source": [
    "**Examples**\n",
    "\n",
    "* Binomial distribution. \n",
    "\n",
    "$$f(x = k ;p) = \\binom{n}{k}  p^k (1-p)^{n-k}$$\n",
    "\n",
    "* Poisson distribution. \n",
    "\n",
    "$$f(x = k;\\lambda) = \\frac{\\lambda^k \\exp(-\\lambda)}{k!}$$\n",
    "\n",
    "* Uniform distribution. \n",
    "\n",
    "$$f(x; a, b) = \\frac{1}{b-a} \\cdot \\mathbf{1}\\{a\\leq x \\leq b\\}$$\n",
    "\n",
    "* Normal distribution. \n",
    "\n",
    "$$\n",
    "f(x; \\mu, \\sigma^2) = \\frac{1}{\\sqrt{2\\pi} \\sigma} \\exp\\left( - \\frac{(x-\\mu)^2}{2\\sigma^2}\\right)\n",
    "$$\n",
    "\n",
    "Its mean is $\\mu$ and variance $\\sigma^2$.\n",
    "\n",
    "* Log-normal distribution.\n",
    "\n",
    "$$\n",
    "f(x; \\mu, \\sigma^2) = \\frac{1}{\\sqrt{2\\pi} \\sigma} \\exp\\left( - \\frac{(\\log(x)-\\mu)^2}{2\\sigma^2}\\right),\n",
    "$$\n",
    "\n",
    "Its means is $\\exp(\\mu + 0.5 \\sigma^2)$ and variance\n",
    "$[\\exp(\\sigma^2 - 1)] \\exp(2\\mu+ \\sigma^2)$.\n",
    "* $\\chi^{2}$, $t$, and $F$ distributions.\n"
   ]
  },
  {
   "attachments": {},
   "cell_type": "markdown",
   "metadata": {
    "pycharm": {
     "name": "#%% md\n"
    }
   },
   "source": [
    "**Example** \n",
    "\n",
    "`scipy.stat` has a rich collection of distributions.\n"
   ]
  },
  {
   "cell_type": "code",
   "execution_count": 9,
   "metadata": {},
   "outputs": [
    {
     "data": {
      "text/plain": [
       "1.959963984540054"
      ]
     },
     "execution_count": 9,
     "metadata": {},
     "output_type": "execute_result"
    }
   ],
   "source": [
    "from scipy.stats import norm\n",
    "\n",
    "# Calculate the 97.5th percentile of the standard normal distribution\n",
    "norm.ppf(0.975)"
   ]
  },
  {
   "cell_type": "code",
   "execution_count": 10,
   "metadata": {
    "pycharm": {
     "name": "#%%\n"
    }
   },
   "outputs": [
    {
     "data": {
      "text/plain": [
       "0.5"
      ]
     },
     "execution_count": 10,
     "metadata": {},
     "output_type": "execute_result"
    }
   ],
   "source": [
    "norm.cdf(0)"
   ]
  },
  {
   "cell_type": "code",
   "execution_count": 11,
   "metadata": {
    "pycharm": {
     "name": "#%%\n"
    }
   },
   "outputs": [
    {
     "data": {
      "text/plain": [
       "0.3989422804014327"
      ]
     },
     "execution_count": 11,
     "metadata": {},
     "output_type": "execute_result"
    }
   ],
   "source": [
    "norm.pdf(0)"
   ]
  },
  {
   "cell_type": "code",
   "execution_count": 12,
   "metadata": {
    "pycharm": {
     "name": "#%%\n"
    }
   },
   "outputs": [
    {
     "data": {
      "text/plain": [
       "array([-0.16741004, -0.26563582,  1.35770181])"
      ]
     },
     "execution_count": 12,
     "metadata": {},
     "output_type": "execute_result"
    }
   ],
   "source": [
    "np.random.normal(size=3)"
   ]
  },
  {
   "cell_type": "code",
   "execution_count": 13,
   "metadata": {
    "pycharm": {
     "name": "#%%\n"
    }
   },
   "outputs": [
    {
     "data": {
      "text/plain": [
       "array([39, 55, 54])"
      ]
     },
     "execution_count": 13,
     "metadata": {},
     "output_type": "execute_result"
    }
   ],
   "source": [
    "np.random.poisson(lam=50, size=3)"
   ]
  },
  {
   "attachments": {},
   "cell_type": "markdown",
   "metadata": {
    "pycharm": {
     "name": "#%% md\n"
    }
   },
   "source": [
    "\n",
    "Below is a piece of code for demonstration.\n",
    "\n",
    "1. Plot the density of standard normal distribution over an equally spaced grid system.\n",
    "2. Generate 1000 observations for $N(0,1)$. Plot the histogram density, a nonparametric estimation of the density.\n",
    "3. Calculate the 95th quantile and the empirical probability of observing a value greater than the 95th quantile.\n",
    "In population, this value is 5%. What is the number coming out of this experiment?\n",
    "\n",
    "(Since we do not fix the random seed in the computer, the outcome is slightly different each time when we run the code.)"
   ]
  },
  {
   "cell_type": "code",
   "execution_count": 14,
   "metadata": {},
   "outputs": [
    {
     "name": "stdout",
     "output_type": "stream",
     "text": [
      "The empirical rejection probability is 0.043\n"
     ]
    },
    {
     "data": {
      "image/png": "[encoded data removed]",
      "text/plain": [
       "<Figure size 640x480 with 1 Axes>"
      ]
     },
     "metadata": {},
     "output_type": "display_data"
    }
   ],
   "source": [
    "\n",
    "# Create x-axis from -3 to 3 with steps of 0.01\n",
    "x_axis = np.arange(-3, 3, 0.01)\n",
    "\n",
    "# Calculate the density of the standard normal distribution for x_axis\n",
    "y = norm.pdf(x_axis)\n",
    "\n",
    "# Plot the standard normal distribution density\n",
    "plt.plot(x_axis, y, label='Standard Normal Distribution', color='blue')\n",
    "plt.xlabel('Value')\n",
    "plt.ylabel('Density')\n",
    "\n",
    "# Generate 1000 random samples from a standard normal distribution\n",
    "z = np.random.normal(size=1000)\n",
    "\n",
    "# Calculate the density of the random samples and plot it\n",
    "density = np.histogram(z, bins=30, density=True)\n",
    "bin_centers = 0.5*(density[1][1:] + density[1][:-1])\n",
    "plt.plot(bin_centers, density[0], color='red', label='Density of Random Samples')\n",
    "\n",
    "# Calculate the critical value at the 95th percentile\n",
    "crit = norm.ppf(0.95)\n",
    "\n",
    "# Calculate the empirical rejection probability\n",
    "empirical_rejection_probability = np.mean(z > crit)\n",
    "print(f\"The empirical rejection probability is {empirical_rejection_probability}\")\n",
    "\n",
    "# Add a vertical line for the critical value\n",
    "plt.axvline(crit, color='green', linestyle='--', label=f'Critical Value ({crit:.2f})')\n",
    "\n",
    "plt.legend()\n",
    "plt.show()"
   ]
  },
  {
   "attachments": {},
   "cell_type": "markdown",
   "metadata": {
    "pycharm": {
     "name": "#%% md\n"
    }
   },
   "source": [
    "## Integration\n",
    "\n",
    "In probability theory, an integral\n",
    "$\\int X\\mathrm{d}P$ is called the *expected value,* or\n",
    "*expectation,* of $X$. We often use the notation\n",
    "$E\\left[X\\right]$, instead of $\\int X\\mathrm{d}P$, for convenience.\n",
    "\n",
    "The expectation is the average of a random variable,\n",
    "despite that we cannot foresee the realization of a random variable in a particular trial\n",
    "(otherwise there is no uncertainty). In the frequentist's view,\n",
    "the expectation is the average outcome if we carry out a large number of independent\n",
    "trials.\n",
    "\n",
    "If we know the probability mass function of a discrete random variable, its expectation\n",
    "is calculated as $E\\left[X\\right]=\\sum_{x}xP\\left(X=x\\right)$.\n",
    "If a continuous random variable has a PDF $f(x)$, its expectation\n",
    "can be computed as  $E\\left[X\\right]=\\int xf\\left(x\\right)\\mathrm{d}x$.\n",
    "\n",
    "\n"
   ]
  },
  {
   "cell_type": "code",
   "execution_count": 15,
   "metadata": {
    "pycharm": {
     "name": "#%%\n"
    }
   },
   "outputs": [
    {
     "data": {
      "text/plain": [
       "6.146389135729357"
      ]
     },
     "execution_count": 15,
     "metadata": {},
     "output_type": "execute_result"
    }
   ],
   "source": [
    "np.mean( d1_log[\"count\"] )"
   ]
  },
  {
   "attachments": {},
   "cell_type": "markdown",
   "metadata": {
    "pycharm": {
     "name": "#%% md\n"
    }
   },
   "source": [
    "\n",
    "Here are some properties of the expectation.\n",
    "\n",
    "\n",
    "\n",
    "-   $E\\left[X^{r}\\right]$ is call the $r$-moment of $X$. The *mean* of a random variable is the first moment $\\mu=E\\left[X\\right]$, and\n",
    "the second *centered* moment is called the *variance*\n",
    "$\\mathrm{var}\\left[X\\right]=E [(X-\\mu)^{2}]$."
   ]
  },
  {
   "cell_type": "code",
   "execution_count": 16,
   "metadata": {
    "pycharm": {
     "name": "#%%\n"
    }
   },
   "outputs": [
    {
     "data": {
      "text/plain": [
       "2.6415986858999068"
      ]
     },
     "execution_count": 16,
     "metadata": {},
     "output_type": "execute_result"
    }
   ],
   "source": [
    "np.var(d1_log[\"count\"])"
   ]
  },
  {
   "attachments": {},
   "cell_type": "markdown",
   "metadata": {},
   "source": [
    "\n",
    "The third centered moment $E\\left[\\left(X-\\mu\\right)^{3}\\right]$,\n",
    "called *skewness*, is a measurement of the\n",
    "symmetry of a random variable, and the fourth centered moment\n",
    "    $E\\left[\\left(X-\\mu\\right)^{4}\\right]$, called *kurtosis*, is\n",
    "     a measurement of the tail thickness.\n",
    "\n",
    "- We call\n",
    "    $E\\left[\\left(X-\\mu\\right)^{3}\\right]/\\sigma^{3}$ the *skewness coefficient*, and\n",
    "    $E\\left[\\left(X-\\mu\\right)^{4}\\right]/\\sigma^{4}-3$ *degree of excess*. A normal distribution's  skewness and  degree of excess are both zero.\n",
    "\n",
    "- Moments do not always exist. For example, the mean of the Cauchy distribution does not exist,\n",
    "and the variance of the $t(2)$ distribution does not exist.\n",
    "\n",
    "- $E[\\cdot]$ is a linear operation. $E[a X_1 + b X_2] = a E[X_1] + b E[X_2].$\n",
    "\n",
    "-   *Jensen's inequality* is an important fact.\n",
    "A function $\\varphi(\\cdot)$ is convex if\n",
    "$\\varphi( a x_1 + (1-a) x_2 ) \\leq a \\varphi(x_1) + (1-a) \\varphi(x_2)$ for all $x_1,x_2$\n",
    "in the domain and $a\\in[0,1]$. For instance, $x^2$ is a convex function.\n",
    "Jensen's inequality says that if $\\varphi\\left(\\cdot\\right)$ is a convex\n",
    "    function, then\n",
    "\n",
    "    $$\n",
    "    \\varphi\\left(E\\left[X\\right]\\right)\\leq E\\left[\\varphi\\left(X\\right)\\right].\n",
    "    $$\n",
    "\n",
    "- *Markov inequality* is another simple but important fact. If $E\\left[\\left|X\\right|^{r}\\right]$\n",
    "    exists, then\n",
    "\n",
    "    $$\n",
    "    P\\left(\\left|X\\right|>\\epsilon\\right)\\leq E\\left[\\left|X\\right|^{r}\\right]/\\epsilon^{r}\n",
    "    $$\n",
    "    \n",
    "    for all $r\\geq1$. *Chebyshev inequality* $P\\left(\\left|X\\right|>\\epsilon\\right)\\leq E\\left[X^{2}\\right]/\\epsilon^{2}$\n",
    "    is a special case of the Markov inequality when $r=2$.\n"
   ]
  },
  {
   "attachments": {},
   "cell_type": "markdown",
   "metadata": {
    "pycharm": {
     "name": "#%% md\n"
    }
   },
   "source": [
    "## Multivariate Random Variable\n",
    "\n",
    "A *bivariate* random variable is a vector of two scalar random variables. More generally, a *multivariate* random variable has the *joint CDF* as\n",
    "\n",
    "$$\n",
    "F\\left(x_{1},\\ldots,x_{n}\\right)=P\\left(X_{1}\\leq x_{1},\\ldots,X_{n}\\leq x_{n}\\right).\n",
    "$$\n",
    "\n",
    "Joint PDF is defined similarly."
   ]
  },
  {
   "cell_type": "code",
   "execution_count": 17,
   "metadata": {
    "pycharm": {
     "name": "#%%\n"
    }
   },
   "outputs": [
    {
     "data": {
      "image/png": "[encoded data removed]",
      "text/plain": [
       "<Figure size 640x480 with 1 Axes>"
      ]
     },
     "metadata": {},
     "output_type": "display_data"
    }
   ],
   "source": [
    "\n",
    "# Plotting 'subs' on the x-axis and 'view' on the y-axis\n",
    "plt.plot(d1_log['subs'], d1_log['view'], marker='o', linestyle='None')\n",
    "plt.xlabel('Subscribers')\n",
    "plt.ylabel('Views')\n",
    "plt.title('scatter plot')\n",
    "plt.show()"
   ]
  },
  {
   "attachments": {},
   "cell_type": "markdown",
   "metadata": {
    "pycharm": {
     "name": "#%% md\n"
    }
   },
   "source": [
    "\n",
    "It is illustrative to introduce the joint distribution, conditional distribution\n",
    "and marginal distribution in the simple bivariate case, and these definitions\n",
    "can be extended to multivariate distributions. \n",
    "Suppose a bivariate random variable $(X,Y)$ has a joint density\n",
    "$f(\\cdot,\\cdot)$.\n",
    "The *marginal density* $f\\left(y\\right)=\\int f\\left(x,y\\right)dx$ integrates out\n",
    "the coordinate that is not interested.\n",
    "The  *conditional density* can be written as  $f\\left(y|x\\right)=f\\left(x,y\\right)/f\\left(x\\right)$  for $f(x) \\neq 0$."
   ]
  },
  {
   "attachments": {},
   "cell_type": "markdown",
   "metadata": {
    "pycharm": {
     "name": "#%% md\n"
    }
   },
   "source": [
    "## Independence\n",
    "\n",
    "For two events $A_1$ and $A_2$, the *conditional probability* is\n",
    "\n",
    "$$\n",
    "P\\left(A_1|A_2\\right) = \\frac{P\\left(A_1 A_2\\right)}{ P\\left(A_2\\right) }\n",
    "$$ \n",
    "\n",
    "if $P(A_2) \\neq  0$. \n",
    "In this definition of conditional probability, $A_2$ plays\n",
    "the role of the outcome space  so that\n",
    " $P(A_1 A_2)$ is standardized by the total mass $P(A_2)$.\n",
    "\n",
    "Since $A_1$ and $A_2$ are symmetric, we have $P(A_1 A_2) = P(A_2|A_1)P(A_1)$.\n",
    "It implies\n",
    "\n",
    "$$\n",
    "P(A_1 | A_2)=\\frac{P\\left(A_2| A_1\\right)P\\left(A_1\\right)}{P\\left(A_2\\right)}\n",
    "$$\n",
    "\n",
    "This formula is the well-known *Bayes' Theorem*, which is a cornerstone of\n",
    "*decision theory*.\n"
   ]
  },
  {
   "attachments": {},
   "cell_type": "markdown",
   "metadata": {
    "pycharm": {
     "name": "#%% md\n"
    }
   },
   "source": [
    "\n",
    "**Example** \n",
    "\n",
    "$A_1$ is the event \"a student can survive CUHK's MSc program\", and $A_2$ is\n",
    "his or her application profile.\n"
   ]
  },
  {
   "attachments": {},
   "cell_type": "markdown",
   "metadata": {
    "pycharm": {
     "name": "#%% md\n"
    }
   },
   "source": [
    "\n",
    "\n",
    "We say two events $A_1$ and $A_2$ are *independent* if $P(A_1A_2) = P(A_1)P(A_2)$.\n",
    "If $P(A_2) \\neq 0$, it is equivalent to $P(A_1 | A_2 ) = P(A_1)$.\n",
    "In words, knowing $A_2$ does not change the probability of $A_1$.\n",
    "\n",
    "If $X$ and $Y$ are independent, then $E[XY] = E[X]E[Y]$.\n",
    "\n",
    "<!-- **Application** (Chebyshev law of large numbers) \n",
    "\n",
    "If\n",
    "$X_{1},X_{2},\\ldots,X_{n}$ are independent and identically distributed,\n",
    "with mean $0$ and variance $\\sigma^{2}<\\infty$. Let\n",
    "$Z_{n}=\\frac{1}{n}\\sum_{i=1}^{n} X_{i}$. Then the\n",
    "probability $P\\left(\\left|Z_{n}\\right|>\\epsilon\\right)\\to0$ as\n",
    "$n\\to\\infty$. -->\n"
   ]
  },
  {
   "cell_type": "code",
   "execution_count": 18,
   "metadata": {},
   "outputs": [
    {
     "data": {
      "image/png": "[encoded data removed]",
      "text/plain": [
       "<Figure size 640x480 with 1 Axes>"
      ]
     },
     "metadata": {},
     "output_type": "display_data"
    }
   ],
   "source": [
    "# Generate a 2-column matrix with 100 rows of random numbers from a standard normal distribution\n",
    "Y = np.random.normal(size=(100, 2))\n",
    "\n",
    "# Plot the first column against the second column\n",
    "plt.scatter(Y[:, 0], Y[:, 1])\n",
    "plt.xlabel('Column 1')\n",
    "plt.ylabel('Column 2')\n",
    "plt.title('Scatter plot of two normally distributed variables')\n",
    "plt.show()"
   ]
  },
  {
   "cell_type": "code",
   "execution_count": 19,
   "metadata": {},
   "outputs": [
    {
     "data": {
      "image/png": "[encoded data removed]",
      "text/plain": [
       "<Figure size 640x480 with 1 Axes>"
      ]
     },
     "metadata": {},
     "output_type": "display_data"
    }
   ],
   "source": [
    "Y = np.random.normal(size=(100, 2))\n",
    "\n",
    "# Apply the linear transformation\n",
    "Y = np.dot(Y, np.array([[1, 0.5], [0.5, 1]]) )\n",
    "\n",
    "# Plot the transformed data\n",
    "plt.scatter(Y[:, 0], Y[:, 1])\n",
    "plt.xlabel('Transformed Column 1')\n",
    "plt.ylabel('Transformed Column 2')\n",
    "plt.title('Scatter plot of transformed variables')\n",
    "plt.show()"
   ]
  },
  {
   "attachments": {},
   "cell_type": "markdown",
   "metadata": {
    "pycharm": {
     "name": "#%% md\n"
    }
   },
   "source": [
    "## Law of Iterated Expectations\n"
   ]
  },
  {
   "attachments": {},
   "cell_type": "markdown",
   "metadata": {
    "pycharm": {
     "name": "#%% md\n"
    }
   },
   "source": [
    "\n",
    "\n",
    "In the bivariate case, if the conditional density exists, the conditional expectation can be computed as\n",
    "    $E\\left[Y|X\\right]=\\int yf\\left(y|X\\right)dy$.\n",
    "The law of iterated expectation implies $E\\left[E\\left[Y|X\\right]\\right]=E\\left[Y\\right]$.\n"
   ]
  },
  {
   "cell_type": "code",
   "execution_count": 20,
   "metadata": {},
   "outputs": [
    {
     "name": "stdout",
     "output_type": "stream",
     "text": [
      "                 category      mean  no\n",
      "0        Autos & Vehicles  7.516632   2\n",
      "1                  Comedy  5.742748   8\n",
      "2               Education  6.290369  10\n",
      "3           Entertainment  6.342173  41\n",
      "4        Film & Animation  5.976671  28\n",
      "5                  Gaming  6.427200  28\n",
      "6           Howto & Style  5.713592  31\n",
      "7                   Music  5.914223  24\n",
      "8         News & Politics  8.134565  22\n",
      "9   Nonprofits & Activism  6.445720   1\n",
      "10         People & Blogs  5.724408  68\n",
      "11         Pets & Animals  6.188264   1\n",
      "12   Science & Technology  6.083646   8\n",
      "13                 Sports  6.140040   5\n",
      "14        Travel & Events  5.483655  12\n"
     ]
    }
   ],
   "source": [
    "# Add 'category' column from d0 to d1_log\n",
    "d1_log['category'] = d0['category']\n",
    "\n",
    "# Group by 'category' and calculate mean and count\n",
    "dx = d1_log.groupby('category').agg(mean=('count', 'mean'), no=('count', 'size')).reset_index()\n",
    "\n",
    "print(dx)"
   ]
  },
  {
   "cell_type": "code",
   "execution_count": 21,
   "metadata": {},
   "outputs": [
    {
     "name": "stdout",
     "output_type": "stream",
     "text": [
      "6.146389135729357\n"
     ]
    }
   ],
   "source": [
    "# Calculate weighted average over categories\n",
    "weighted_avg = sum(dx['mean'] * (dx['no'] / len(d1_log)))\n",
    "print(weighted_avg)"
   ]
  },
  {
   "cell_type": "code",
   "execution_count": 22,
   "metadata": {},
   "outputs": [
    {
     "name": "stdout",
     "output_type": "stream",
     "text": [
      "6.146389135729357\n"
     ]
    }
   ],
   "source": [
    "# Calculate and print overall average of 'count'\n",
    "overall_avg = d1_log['count'].mean()\n",
    "print(overall_avg)"
   ]
  },
  {
   "attachments": {},
   "cell_type": "markdown",
   "metadata": {
    "pycharm": {
     "name": "#%% md\n"
    }
   },
   "source": [
    "\n",
    "\n",
    "Below are some properties of conditional expectations\n",
    "\n",
    "1.  $E\\left[E\\left[Y|X_{1},X_{2}\\right]|X_{1}\\right]=E\\left[Y|X_{1}\\right];$\n",
    "2.  $E\\left[E\\left[Y|X_{1}\\right]|X_{1},X_{2}\\right]=E\\left[Y|X_{1}\\right];$\n",
    "3.  $E\\left[h\\left(X\\right)Y|X\\right]=h\\left(X\\right)E\\left[Y|X\\right].$\n",
    "\n",
    "**Application**\n",
    "\n",
    "Regression is a technique that decomposes a random variable $Y$\n",
    "into two parts, a conditional mean and a residual. Write\n",
    " $Y=E\\left[Y|X\\right]+\\epsilon$, where\n",
    "$\\epsilon=Y-E\\left[Y|X\\right]$. Show that $E[\\epsilon] = 0$ and  $E[\\epsilon E[Y|X] ] = 0$."
   ]
  },
  {
   "attachments": {},
   "cell_type": "markdown",
   "metadata": {},
   "source": [
    "## For the next lecture\n",
    "\n",
    "Save the following data files for the next lecture."
   ]
  },
  {
   "cell_type": "code",
   "execution_count": 23,
   "metadata": {
    "pycharm": {
     "name": "#%%\n"
    }
   },
   "outputs": [],
   "source": [
    "d1_log.to_csv('logYoutuber.csv', index=False)"
   ]
  },
  {
   "cell_type": "code",
   "execution_count": 24,
   "metadata": {
    "pycharm": {
     "name": "#%%\n"
    }
   },
   "outputs": [],
   "source": [
    "# save a random subsmaple\n",
    "d1_log_sub = d1_log.sample(n=100).to_csv('logYoutuber_sample.csv', index=False)"
   ]
  },
  {
   "cell_type": "markdown",
   "metadata": {},
   "source": []
  }
 ],
 "metadata": {
  "kernelspec": {
   "display_name": "base",
   "language": "python",
   "name": "python3"
  },
  "language_info": {
   "codemirror_mode": {
    "name": "ipython",
    "version": 3
   },
   "file_extension": ".py",
   "mimetype": "text/x-python",
   "name": "python",
   "nbconvert_exporter": "python",
   "pygments_lexer": "ipython3",
   "version": "3.12.7"
  }
 },
 "nbformat": 4,
 "nbformat_minor": 2
}