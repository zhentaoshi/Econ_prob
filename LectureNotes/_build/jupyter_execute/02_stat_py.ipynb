{
 "cells": [
  {
   "attachments": {},
   "cell_type": "markdown",
   "metadata": {
    "pycharm": {
     "name": "#%% md\n"
    }
   },
   "source": [
    "# Statistics"
   ]
  },
  {
   "attachments": {},
   "cell_type": "markdown",
   "metadata": {},
   "source": [
    "\n",
    "Statistic theory goes the opposite way to probability theory. In reality what we observe is a sample of data, but we don't know via what mechanism the data are generated. Statistics asks how can we infer the data generating process from the sample that we observe. For example, if we assume the sample comes from a normal distribution, what is the best way that we learn the population mean and variance? Do the data provide sufficient evidence that two samples are drawn from populations of the same means? Statistics uses the sample to compute some numbers, while the underlying probability model guides the interpretation of these numbers."
   ]
  },
  {
   "attachments": {},
   "cell_type": "markdown",
   "metadata": {
    "pycharm": {
     "name": "#%% md\n"
    }
   },
   "source": [
    "**Example** \n",
    "\n",
    "This is a sample of 100 accounts from\n",
    "[HK top 300 Youtubers](https://www.kaggle.com/datasets/patriotboy112/hks-top-300-youtubers) in the previous lecture."
   ]
  },
  {
   "cell_type": "code",
   "execution_count": 1,
   "metadata": {
    "pycharm": {
     "name": "#%%\n"
    }
   },
   "outputs": [
    {
     "name": "stdout",
     "output_type": "stream",
     "text": [
      "100\n"
     ]
    }
   ],
   "source": [
    "import pandas as pd\n",
    "\n",
    "# Reading the CSV file\n",
    "d1_log_sub = pd.read_csv(\"logYoutuber_sample.csv\")\n",
    "\n",
    "# Checking the number of rows\n",
    "n = d1_log_sub.shape[0]\n",
    "print(n)"
   ]
  },
  {
   "attachments": {},
   "cell_type": "markdown",
   "metadata": {
    "pycharm": {
     "name": "#%% md\n"
    }
   },
   "source": [
    "Point estimates"
   ]
  },
  {
   "cell_type": "code",
   "execution_count": 2,
   "metadata": {
    "pycharm": {
     "name": "#%%\n"
    }
   },
   "outputs": [
    {
     "name": "stdout",
     "output_type": "stream",
     "text": [
      "6.255411898720982\n"
     ]
    }
   ],
   "source": [
    "import numpy as np\n",
    "\n",
    "print(np.mean(d1_log_sub[\"count\"]))"
   ]
  },
  {
   "cell_type": "code",
   "execution_count": 3,
   "metadata": {
    "pycharm": {
     "name": "#%%\n"
    }
   },
   "outputs": [
    {
     "name": "stdout",
     "output_type": "stream",
     "text": [
      "2.7412359527203556\n"
     ]
    }
   ],
   "source": [
    "print(np.var(d1_log_sub[\"count\"]))"
   ]
  },
  {
   "attachments": {},
   "cell_type": "markdown",
   "metadata": {
    "pycharm": {
     "name": "#%% md\n"
    }
   },
   "source": [
    "We are interested in the *sample mean*, as it tells us the location of the center in the probability weighted average, or *population mean* $\\mu = E[X_i]$.\n",
    "We are also interested in the *sample variance*, as it tells us the scale of spread of the sample, or *population variance* $\\sigma^2 = var(X_i)$.\n",
    "\n",
    "In this example, we can view the sample as a multinomial distribution with $n$ outcomes at the observed realized points. \n",
    "Since each observation is drawn randomly and independently, everyone is equally important.\n",
    "Assigning equal probability $1/n$ on each point naturally delivers the sample mean $\\hat{\\mu} = \\bar{X} = n^{-1} \\sum_{i=1}^n X_i.$\n",
    "Similarly, a widely used sample variance is computed as $s^2 = (n-1)^{-1} \\sum_{i=1}^n (X_i - \\hat{\\mu})^2$."
   ]
  },
  {
   "attachments": {},
   "cell_type": "markdown",
   "metadata": {},
   "source": [
    "More generally, for $p>0$ the statistic $n^{-1} \\sum_{i=1}^n x_i^p$ is called the $p$-th sample moment, and $n^{-1} \\sum_{i=1}^n (X_i - \\bar{X})^p$ is called the $r$-th centered moment. "
   ]
  },
  {
   "attachments": {},
   "cell_type": "markdown",
   "metadata": {
    "pycharm": {
     "name": "#%% md\n"
    }
   },
   "source": [
    "## Estimation methods\n",
    "\n",
    "Suppose that the data are generated from a parametric model. Statistical\n",
    "estimation is an \"educated guess\" of the unknown parameter from the observed data. A\n",
    "*principle* is an ideology about a proper way of estimation. Over the\n",
    "history of statistics, only a few principles are widely accepted.\n",
    "The two most popular methods are the *method of moments* and the *maximum likelihood method*. \n",
    "\n"
   ]
  },
  {
   "attachments": {},
   "cell_type": "markdown",
   "metadata": {
    "pycharm": {
     "name": "#%% md\n"
    }
   },
   "source": [
    "### Method of moments\n",
    "\n",
    "The method of moments expresses some moments as functions \n",
    "of these parameters. \n",
    "We use the sample moments to mimic the corresponding population moments. \n",
    "Then we invert the functions to back out the parameters. \n",
    "\n",
    "**Example**\n",
    "\n",
    "A normal distribution is completely characterized by $\\mu$ and $\\sigma^2$. The following two estimates \n",
    "are the method of moments estimates of the two parameters. \n"
   ]
  },
  {
   "cell_type": "code",
   "execution_count": 4,
   "metadata": {
    "pycharm": {
     "name": "#%%\n"
    }
   },
   "outputs": [
    {
     "name": "stdout",
     "output_type": "stream",
     "text": [
      "-0.39432695294765424\n",
      "1.3853631863911244\n"
     ]
    }
   ],
   "source": [
    "x = np.random.normal(size=20)\n",
    "print(np.mean(x))\n",
    "print(np.var(x))"
   ]
  },
  {
   "attachments": {},
   "cell_type": "markdown",
   "metadata": {
    "pycharm": {
     "name": "#%% md\n"
    }
   },
   "source": [
    "\n",
    "**Example**: \n",
    "\n",
    "The $t$ distribution has one parameter, its degree of freedom $\\nu$. The variance of $t(\\nu)$, if $\\nu >2$,  is  $\\sigma^2 = \\nu / (\\nu - 2)$.\n",
    "From the data, we estimate $\\hat{\\sigma}^2$, and then solve $\\hat{\\sigma}^2 = \\nu / (\\nu - 2)$ to get\n",
    "\n",
    "$$\n",
    "  \\hat{\\nu} = \\frac{2\\hat{\\sigma}^2}{\\hat{\\sigma}^2 - 1}\n",
    "$$\n",
    "\n",
    "Note: The population variance of $t$ distribution is no smaller than 1.\n",
    "\n",
    "\n",
    "\n",
    "\n"
   ]
  },
  {
   "attachments": {},
   "cell_type": "markdown",
   "metadata": {
    "pycharm": {
     "name": "#%% md\n"
    }
   },
   "source": [
    "### Maximum likelihood\n",
    "\n",
    "The maximum likelihood estimation (MLE) looks for the value of the parameter that maximizes the log-likelihood. Because by the concavity of logarithm, the true parameter is the value that maximizes the expected likelihood function. In reality, we maximize its empirical version. "
   ]
  },
  {
   "attachments": {},
   "cell_type": "markdown",
   "metadata": {},
   "source": [
    "\n",
    "\n",
    "Consider a random sample \n",
    "drawn from a parametric\n",
    "distribution with density $f\\left(x;\\theta\\right)$, where\n",
    "$x$ is either a scalar random variable or a random vector. A\n",
    "parametric distribution is completely characterized by a\n",
    "finite-dimensional parameter $\\theta$. We use the data to estimate $\\theta$.\n",
    "\n",
    "The log-likelihood of observing the entire *random* sample $\\mathbf{X}=(X_1,X_2,\\ldots,X_n)$ is\n",
    "\n",
    "$$\n",
    "  L_{n}\\left(\\theta;\\mathbf{X}\\right):=\\log\\left(\\prod_{i=1}^{n}f\\left(X_{i};\\theta\\right)\\right)=\\sum_{i=1}^{n}\\log f\\left(X_{i};\\theta\\right).\n",
    "$$\n",
    "\n",
    "In reality the sample $\\mathbf{X}$ is given and for each $\\theta\\in\\Theta$ we can\n",
    "evaluate $L_{n}\\left(\\theta;X\\right)$. The maximum likelihood estimator\n",
    "is\n",
    "\n",
    "$$\\widehat{\\theta}_{MLE}:=\\arg\\max_{\\theta\\in\\Theta}L_{n}\\left(\\theta;\\mathbf{X}\\right).$$\n",
    "\n",
    "This $\\widehat{\\theta}_{MLE}$ makes observing $X$ the\n",
    "“most likely” in the entire parametric space.\n",
    "A formal justification of MLE uses the terminology the *Kullback-Leibler information criterion*,\n",
    "which is a measurement of the \"distance\" or \"divergence\" between two distributions. This information criterion is maximized at the true parameter value.\n",
    "\n"
   ]
  },
  {
   "attachments": {},
   "cell_type": "markdown",
   "metadata": {
    "pycharm": {
     "name": "#%% md\n"
    }
   },
   "source": [
    "**Example**\n",
    "\n",
    "Consider the Gaussian location model $X_{i}\\sim N\\left(\\mu, \\sigma^2 \\right)$,\n",
    "where $\\mu$ and $\\sigma$ are unknown parameters to be estimated. The likelihood of\n",
    "observing $X_{i}$ is\n",
    "$f\\left(X_{i};\\mu\\right)=\\frac{1}{\\sqrt{2\\pi}\\sigma}\\exp\\left(-\\frac{1}{2\\sigma^2}\\left(X_{i}-\\mu\\right)^{2}\\right)$.\n",
    "The likelihood of observing the sample $\\mathbf{X}$ is\n",
    "\n",
    "$$f\\left(\\mathbf{X};\\mu, \\sigma \\right)=\\prod_{i=1}^{n}\\frac{1}{\\sqrt{2\\pi}\\sigma}\\exp\\left(-\\frac{1}{2\\sigma^2}\\left(X_{i}-\\mu\\right)^{2}\\right)$$\n",
    "\n",
    "and the log-likelihood is\n",
    "\n",
    "$$L_{n}\\left(\\mu, \\sigma;\\mathbf{X}\\right)=-\\frac{n}{2}\\log\\left(2\\pi\\right) - n \\log \\sigma -\\frac{1}{2\\sigma^2}\\sum_{i=1}^{n}\\left(X_{i}-\\mu\\right)^{2}.$$"
   ]
  },
  {
   "attachments": {},
   "cell_type": "markdown",
   "metadata": {
    "pycharm": {
     "name": "#%% md\n"
    }
   },
   "source": [
    "After some computation, we will find $\\hat{\\mu}=n^{-1} \\sum_{i=1}^n X_i$ and $\\hat{\\sigma}^2 = n^{-1} \\sum_{i=1}^n (X_i - \\bar{X})^2$.\n",
    "Notice the denominator in the estimated variance here is $n$, instead of $(n-1)$ as in $s^2$. While $s^2$ is an unbiased estimator for the variance, the MLE estimator is therefore biased for the variance."
   ]
  },
  {
   "attachments": {},
   "cell_type": "markdown",
   "metadata": {
    "pycharm": {
     "name": "#%% md\n"
    }
   },
   "source": [
    "## Statistic Inference"
   ]
  },
  {
   "attachments": {},
   "cell_type": "markdown",
   "metadata": {
    "pycharm": {
     "name": "#%% md\n"
    }
   },
   "source": [
    "We are interesting in relating the statistic to the population. \n",
    "Suppose $X_i$'s randomly drawn from a distribution, and we would like to learn the mean $\\mu: = E[X_i]$.\n",
    "The sample mean is a natural estimator for $\\mu$."
   ]
  },
  {
   "attachments": {},
   "cell_type": "markdown",
   "metadata": {},
   "source": [
    "\n",
    "Interval estimation quantifies the uncertainty of the estimator. The most familiar formula might be\n",
    "\n",
    "$$\n",
    "\\left(\n",
    "\\hat{\\mu} - \\frac{1.96}{\\sqrt{n}} \\hat{\\sigma}, \n",
    "\\hat{\\mu} + \\frac{1.96}{\\sqrt{n}} \\hat{\\sigma}\n",
    "\\right).\n",
    "$$\n",
    "\n",
    "We will explain the rationale behind this formula.\n"
   ]
  },
  {
   "cell_type": "code",
   "execution_count": 5,
   "metadata": {},
   "outputs": [],
   "source": [
    "import numpy as np\n",
    "\n",
    "def CI(x):\n",
    "    # x is a numpy array of random variables\n",
    "    # nominal coverage probability is 95%\n",
    "    n = len(x)\n",
    "    mu = np.mean(x)\n",
    "    sig = np.std(x, ddof=1)  # ddof=1 for sample standard deviation\n",
    "    upper = mu + 1.96 / np.sqrt(n) * sig\n",
    "    lower = mu - 1.96 / np.sqrt(n) * sig\n",
    "    return {'lower': lower, 'upper': upper}"
   ]
  },
  {
   "cell_type": "code",
   "execution_count": 6,
   "metadata": {
    "pycharm": {
     "name": "#%%\n"
    }
   },
   "outputs": [
    {
     "data": {
      "text/plain": [
       "{'lower': np.float64(5.929266178733169),\n",
       " 'upper': np.float64(6.5815576187087945)}"
      ]
     },
     "execution_count": 6,
     "metadata": {},
     "output_type": "execute_result"
    }
   ],
   "source": [
    "CI(d1_log_sub[\"count\"])"
   ]
  },
  {
   "attachments": {},
   "cell_type": "markdown",
   "metadata": {},
   "source": [
    "An interval estimator is constructed according to a *sampling distribution*.\n",
    "The sampling distribution is the distribution of a statistic. "
   ]
  },
  {
   "attachments": {},
   "cell_type": "markdown",
   "metadata": {
    "pycharm": {
     "name": "#%% md\n"
    }
   },
   "source": [
    "**Example**\n",
    "\n",
    "Sampling distributions. Under normal distribution\n",
    "\n",
    "* Assume $X_i \\sim N(\\mu, \\sigma^2)$ with a known variance. Then $\\bar{X} \\sim N(\\mu, \\sigma^2 / n)$.\n",
    "* Assume $X_i \\sim N(\\mu, \\sigma^2)$ with a unknown variance. Then $\\frac{\\bar{X} - \\mu}{s} \\sim t(n-1)$.\n",
    "* Assume $X_i \\sim (\\mu, \\sigma^2)$ with a finite variance. \n",
    "$\\sqrt{n} \\frac{\\bar{X} - \\mu}{\\sigma} \\stackrel{d}{\\rightarrow} N(0, 1)$. (to be discussed in asymptotic theory)"
   ]
  },
  {
   "attachments": {},
   "cell_type": "markdown",
   "metadata": {
    "pycharm": {
     "name": "#%% md\n"
    }
   },
   "source": [
    "**Simulation example**"
   ]
  },
  {
   "attachments": {},
   "cell_type": "markdown",
   "metadata": {
    "pycharm": {
     "name": "#%% md\n"
    }
   },
   "source": [
    "In a simulation, we compute the empirical coverage probability of the formula of the confidence interval."
   ]
  },
  {
   "cell_type": "code",
   "execution_count": 7,
   "metadata": {},
   "outputs": [
    {
     "name": "stdout",
     "output_type": "stream",
     "text": [
      "The empirical coverage probability = 0.905\n"
     ]
    }
   ],
   "source": [
    "from scipy.stats import poisson\n",
    "\n",
    "def CI(x):\n",
    "    n = len(x)\n",
    "    mu = np.mean(x)\n",
    "    sig = np.std(x, ddof=1)  # Sample standard deviation\n",
    "    upper = mu + 1.96 / np.sqrt(n) * sig\n",
    "    lower = mu - 1.96 / np.sqrt(n) * sig\n",
    "    return {'lower': lower, 'upper': upper}\n",
    "\n",
    "Rep = 1000\n",
    "sample_size = 10\n",
    "capture = np.zeros(Rep)\n",
    "Bounds = np.zeros((Rep, 2))\n",
    "mu = 2\n",
    "\n",
    "for i in range(Rep):\n",
    "    x = poisson.rvs(mu, size=sample_size)\n",
    "    bounds = CI(x)\n",
    "    capture[i] = ((bounds['lower'] <= mu) & (mu <= bounds['upper']))\n",
    "    Bounds[i,] = [bounds['lower'], bounds['upper']]\n",
    "\n",
    "print(\"The empirical coverage probability =\", np.mean(capture))"
   ]
  },
  {
   "attachments": {},
   "cell_type": "markdown",
   "metadata": {
    "pycharm": {
     "name": "#%% md\n"
    }
   },
   "source": [
    "*Coverage probability* is the probability that the confidence interval captures the true value in repeated sampling.\n",
    "Here the confidence interval is random while the true value is fixed.\n",
    "\n",
    "**Simulation example**\n",
    "\n",
    "Witness the confidence intervals from 25 replications."
   ]
  },
  {
   "cell_type": "code",
   "execution_count": 8,
   "metadata": {},
   "outputs": [
    {
     "data": {
      "image/png": "[encoded data removed]",
      "text/plain": [
       "<Figure size 1000x600 with 1 Axes>"
      ]
     },
     "metadata": {},
     "output_type": "display_data"
    }
   ],
   "source": [
    "import matplotlib.pyplot as plt\n",
    "\n",
    "# Assuming Bounds is a numpy array with shape (Rep, 2) and contains the confidence intervals\n",
    "Bounds25 = Bounds[:25, :]  # Extract the first 25 confidence intervals\n",
    "\n",
    "plt.figure(figsize=(10, 6))\n",
    "for i, (lower, upper) in enumerate(Bounds25, start=1):\n",
    "    plt.plot([i, i], [lower, upper], marker='_', markersize=20, color='blue')  # Plot each confidence interval\n",
    "plt.hlines(y=2, xmin=1, xmax=25, colors='red', linestyles='dashed', linewidth=2)  # True mean line\n",
    "\n",
    "plt.xlim(1, 25)\n",
    "plt.ylim(Bounds25.min(), Bounds25.max())\n",
    "plt.xlabel('Sample Number')\n",
    "plt.ylabel('Confidence Interval')\n",
    "plt.title('Confidence Intervals for the First 25 Samples')\n",
    "plt.show()"
   ]
  },
  {
   "attachments": {},
   "cell_type": "markdown",
   "metadata": {
    "pycharm": {
     "name": "#%% md\n"
    }
   },
   "source": [
    "It is important to understand that the coverage probability is not the probability that the parameter falls into a fixed interval, which is the interpretation of the *Bayesian credit interval*. \n",
    "The latter requires different way for construction."
   ]
  },
  {
   "attachments": {},
   "cell_type": "markdown",
   "metadata": {
    "pycharm": {
     "name": "#%% md\n"
    }
   },
   "source": [
    "### Hypothesis Testing"
   ]
  },
  {
   "attachments": {},
   "cell_type": "markdown",
   "id": "1dfc42d5",
   "metadata": {
    "pycharm": {
     "name": "#%% md\n"
    }
   },
   "source": [
    "\n",
    "A *hypothesis* is a statement about the parameter space $\\Theta$.\n",
    "Hypothesis testing checks whether the data support a *null hypothesis*\n",
    "$\\Theta_{0}$, which is a subset of $\\Theta$ of interest. Ideally the\n",
    "null hypothesis should be suggested by scientific theory. The\n",
    "*alternative hypothesis* $\\Theta_{1}=\\Theta\\backslash\\Theta_{0}$ is the\n",
    "complement of $\\Theta_{0}$. Based on the observed evidence, hypothesis\n",
    "testing decides to accept or reject the null hypothesis. If the null\n",
    "hypothesis is rejected by the data, it implies that from the statistical\n",
    "perspective the data are incompatible with the proposed scientific\n",
    "theory.\n"
   ]
  },
  {
   "attachments": {},
   "cell_type": "markdown",
   "id": "36eaa581",
   "metadata": {
    "pycharm": {
     "name": "#%% md\n"
    }
   },
   "source": [
    "\n",
    "\n",
    "\n",
    "Let $\\phi(\\mathbf{X};\\theta)$ be the *decision function*. It takes value \"1\" when $\\theta$ is rejected as a null hypothesis, and it takes value \"0\" otherwise.\n",
    "We define the power function $\\beta(\\theta) = E[ \\phi(\\mathbf{X};\\theta) ]$, which is the probability of rejecting a null hypothesis $\\theta$.\n",
    "\n",
    "Actions, States and Consequences:\n",
    "\n",
    "------------------------------------------------------------------------\n",
    "                    |   accept $H_{0}$  |   reject $H_{0}$\n",
    "      $H_{0}$ true  |  correct decision |    Type I error\n",
    "      $H_{0}$ false |   Type II error   |  correct decision\n",
    "------------------------------------------------------------------------\n",
    "\n",
    "-   The *probability of committing Type I error* is\n",
    "    $\\beta\\left(\\theta\\right)$ for some $\\theta\\in\\Theta_{0}$.\n",
    "\n",
    "-   The *probability of committing Type II error* is\n",
    "    $1-\\beta\\left(\\theta\\right)$ for some $\\theta\\in\\Theta_{1}$.\n"
   ]
  },
  {
   "attachments": {},
   "cell_type": "markdown",
   "id": "9fa5c7d4",
   "metadata": {
    "pycharm": {
     "name": "#%% md\n"
    }
   },
   "source": [
    "\n",
    "The philosophy on hypothesis testing has been debated for a long time. At\n",
    "present the prevailing framework in statistics textbooks is the\n",
    "*frequentist perspective*. Frequentist views the parameter as fixed. They keep a conservative attitude about the Type I error: Only\n",
    "if overwhelming evidence is revealed shall a researcher reject the\n",
    "null. Under the principle of protecting the null hypothesis, a desirable\n",
    "test should have a small level. Conventionally we take $\\alpha=0.01,$\n",
    "$0.05$ or $0.1$. We say a test is *unbiased* if\n",
    "\n",
    "$$\\inf_{\\theta\\in\\Theta_{1}}\\beta\\left(\\theta\\right)>\\sup_{\\theta\\in\\Theta_{0}}\\beta\\left(\\theta\\right).$$\n",
    "\n",
    "There can be many tests of correct size.\n"
   ]
  },
  {
   "attachments": {},
   "cell_type": "markdown",
   "metadata": {},
   "source": [
    "**Remark**\n",
    "\n",
    "Let $\\mathbf{x} = (x_1, x_2, \\ldots, x_n)$.\n",
    "A trivial test function\n",
    "$\\phi(\\mathbf{x})=1\\left\\{ 0\\leq U\\leq\\alpha\\right\\}$ for all\n",
    "$\\theta\\in\\Theta$, where $U$ is a random variable from a uniform\n",
    "distribution on $\\left[0,1\\right]$, has the correct size $\\alpha$ but no\n",
    "non-trivial power at the alternative. On the other extreme, the trivial\n",
    "test function $\\phi(\\mathbf{x})=1$ for all $\\mathbf{x}$\n",
    "enjoys the biggest power but suffers incorrect size.\n"
   ]
  },
  {
   "attachments": {},
   "cell_type": "markdown",
   "metadata": {},
   "source": [
    "\n",
    "Usually, we design a test by proposing a test statistic\n",
    "$T_{n}$ and a corresponding critical value\n",
    "$c_{1-\\alpha}$. Given $T_{n}$ and $c_{1-\\alpha}$, we write the test\n",
    "function as\n",
    "\n",
    "$$\n",
    "\\phi(\\mathbf{X})=1\\left\\{ T_{n} (\\mathbf{X})>c_{1-\\alpha}\\right\\}.\n",
    "$$\n",
    "\n",
    "To ensure such a $\\phi(\\mathbf{x})$ has the correct size, we need\n",
    "to figure out the distribution of $T_{n}$ under the null hypothesis\n",
    "(called the *null distribution*), and choose a critical value\n",
    "$c_{1-\\alpha}$ according to the null distribution where $\\alpha$\n",
    "is the desirable size or level.\n"
   ]
  },
  {
   "attachments": {},
   "cell_type": "markdown",
   "metadata": {
    "pycharm": {
     "name": "#%% md\n"
    }
   },
   "source": [
    "\n",
    "Another commonly popular indicator for the compatibility between the data and the null hypothesis is the $p$-value:\n",
    "\n",
    "$$\\sup_{\\theta\\in\\Theta_{0}}P_{\\theta}\\left\\{ T_{n}\\left({\\mathbf{x}}\\right)\\leq T_{n}\\left(\\mathbf{X}\\right)\\right\\}.$$\n",
    "\n",
    "In the above expression, $T_{n}\\left(\\mathbf{x}\\right)$ is the realized\n",
    "value of the test statistic $T_{n}$, while\n",
    "$T_{n}\\left(\\mathbf{X}\\right)$ is the random variable generated by\n",
    "$\\mathbf{X}$ under the null $\\theta\\in\\Theta_{0}$. The interpretation of\n",
    "the $p$-value is tricky. $p$-value is the probability, when the null hypothesis is true,\n",
    "that we observe\n",
    "$T_{n}(\\mathbf{X})$ being greater than the realized $T_{n}(\\mathbf{x})$.\n",
    "\n",
    "The $p$-value is *not* the probability that the null hypothesis is true.\n",
    "Under the frequentist perspective, the null hypothesis is either true or\n",
    "false, with certainty. The randomness of a test comes only from\n",
    "sampling, not from the hypothesis at all."
   ]
  },
  {
   "attachments": {},
   "cell_type": "markdown",
   "metadata": {
    "pycharm": {
     "name": "#%% md\n"
    }
   },
   "source": [
    "### Connections\n",
    "\n",
    "Given the same sample and the underlying approach,\n",
    "hypothesis testing, confidence interval, and $p$-value are tightly connected. The followings are equivalent: \n",
    "\n",
    "* The hypothesized value is rejected by a test of size $\\alpha$;\n",
    "* The hypothesized value is excluded by the confidence interval of coverage probability $(1-\\alpha)$;\n",
    "* Its $p$-value under the hypothesized value is smaller than $\\alpha$.\n",
    "\n",
    "On the opposite side of the coin, the followings are the equivalent as well:\n",
    "\n",
    "* The hypothesized value is not rejected by a test of size $\\alpha$;\n",
    "* The hypothesized value is included by the confidence interval of coverage probability $(1-\\alpha)$;\n",
    "* Its $p$-value under the hypothesized value is large than $\\alpha$.\n",
    "\n",
    "The one-to-one mapping between the points in the confidence interval and the outcome of the test allows constructing the \n",
    "confidence interval by inverting the  test. In words, if we collect all points that are not rejected by the test of size $\\alpha$, we obtain the confidence interval of coverage probability $(1-\\alpha)$."
   ]
  },
  {
   "attachments": {},
   "cell_type": "markdown",
   "metadata": {
    "pycharm": {
     "name": "#%% md\n"
    }
   },
   "source": [
    "### Revealing the population\n",
    "\n",
    "As in the previous lecture, we view the HK top 300 Youtubers as the population. "
   ]
  },
  {
   "cell_type": "code",
   "execution_count": 9,
   "metadata": {
    "pycharm": {
     "name": "#%%\n"
    }
   },
   "outputs": [],
   "source": [
    "d1_log = pd.read_csv(\"logYoutuber.csv\")\n",
    "\n",
    "# Number of rows\n",
    "N = d1_log.shape[0]\n"
   ]
  },
  {
   "cell_type": "code",
   "execution_count": 10,
   "metadata": {
    "pycharm": {
     "name": "#%%\n"
    }
   },
   "outputs": [
    {
     "name": "stdout",
     "output_type": "stream",
     "text": [
      "6.146389135729357\n",
      "2.6415986858999068\n"
     ]
    },
    {
     "data": {
      "text/plain": [
       "np.float64(0.6086587545357833)"
      ]
     },
     "execution_count": 10,
     "metadata": {},
     "output_type": "execute_result"
    }
   ],
   "source": [
    "print( np.mean(d1_log[\"count\"]) )\n",
    "\n",
    "print( np.var(d1_log[\"count\"]) )\n",
    "\n",
    "np.corrcoef(d1_log[\"count\"], d1_log[\"view\"])[0, 1]"
   ]
  },
  {
   "attachments": {},
   "cell_type": "markdown",
   "metadata": {
    "pycharm": {
     "name": "#%% md\n"
    }
   },
   "source": [
    "### Random Sampling\n",
    "\n",
    "Each sample is random. It means that $\\hat{\\mu}$ is a random variable across the potential samples. In this population the total number of \n",
    "outcomes is $N=300$. For a sample of size $n=100$, there are at most \n",
    "\n",
    "$$\n",
    "\\binom {N} {n} = \\binom {300} {100} = 4.15\\times 10^{81}\n",
    "$$\n",
    "\n",
    "possibilities for the sample mean. This is a number as large as all the atoms in the universe."
   ]
  },
  {
   "cell_type": "code",
   "execution_count": 11,
   "metadata": {},
   "outputs": [
    {
     "name": "stdout",
     "output_type": "stream",
     "text": [
      "[53.46 51.1  44.66 54.4  48.86 55.48 56.48 58.18 50.08 46.88 51.8  46.32\n",
      " 47.   43.42 52.26 47.08 48.32 54.32 45.6  52.46 49.84 50.82 51.64 55.18\n",
      " 58.48 47.64 53.62 48.52 52.72 46.24 44.84 47.08 49.72 41.46 52.42 50.76\n",
      " 51.94 51.4  49.44 52.28 44.62 53.6  43.66 45.34 54.46 42.4  50.14 54.28\n",
      " 52.38 51.62 51.46 46.72 49.24 43.74 54.26 47.76 49.92 46.66 48.64 39.72\n",
      " 53.72 46.98 44.7  47.36 42.54 48.04 40.56 46.32 57.74 53.1  44.32 42.7\n",
      " 45.08 52.12 45.3  48.86 52.54 53.14 51.86 43.04 50.86 52.22 51.7  52.76\n",
      " 46.26 47.74 50.46 48.84 46.48 51.22 51.74 47.06 56.12 46.08 47.08 44.76\n",
      " 45.62 53.18 55.44 46.74 57.34 46.88 48.5  54.56 50.14 54.88 50.68 50.96\n",
      " 52.12 48.38 47.94 45.28 50.38 49.14 52.96 47.7  48.18 53.06 51.14 43.54\n",
      " 54.56 50.82 47.28 51.8  50.8  42.58 50.2  50.72 52.08 46.52 45.94 45.92\n",
      " 48.02 53.58 48.84 50.64 50.34 50.94 53.42 49.98 51.04 40.28 53.4  53.26\n",
      " 48.5  56.88 52.22 46.24 48.24 48.68 54.9  49.78 46.68 56.18 56.46 45.82\n",
      " 51.48 51.9  50.08 57.88 50.5  55.   46.7  49.56 51.8  50.56 49.78 52.22\n",
      " 43.3  50.9  51.32 47.68 56.04 51.9  47.22 52.1  55.96 45.86 56.6  54.5\n",
      " 51.24 57.98 48.1  52.9  45.2  55.04 45.58 53.08 54.02 44.6  44.16 50.02\n",
      " 51.12 48.78 58.6  55.26 45.06 56.18 51.92 54.88]\n"
     ]
    }
   ],
   "source": [
    "import numpy as np\n",
    "import pandas as pd\n",
    "\n",
    "# Assuming d1.log is a pandas DataFrame and 'count' is a column in that DataFrame\n",
    "d1_log = pd.DataFrame({'count': np.random.randint(1, 100, size=1000)})  # Example data\n",
    "N = len(d1_log['count'])\n",
    "n = 50  # Example subsample size\n",
    "\n",
    "def subsample_mean():\n",
    "    indices = np.random.choice(range(N), n, replace=False)\n",
    "    return d1_log['count'].iloc[indices].mean()\n",
    "\n",
    "rep_means = np.array([subsample_mean() for _ in range(200)])\n",
    "\n",
    "print(rep_means)"
   ]
  },
  {
   "cell_type": "code",
   "execution_count": 12,
   "metadata": {},
   "outputs": [
    {
     "data": {
      "image/png": "[encoded data removed]",
      "text/plain": [
       "<Figure size 640x480 with 1 Axes>"
      ]
     },
     "metadata": {},
     "output_type": "display_data"
    }
   ],
   "source": [
    "import matplotlib.pyplot as plt\n",
    "\n",
    "# Assuming rep.mean is a numpy array or a list of means\n",
    "plt.hist(rep_means, bins=10, edgecolor='black')\n",
    "plt.title('Histogram of Replicated Means')\n",
    "plt.xlabel('Mean Value')\n",
    "plt.ylabel('Frequency')\n",
    "plt.show()"
   ]
  },
  {
   "attachments": {},
   "cell_type": "markdown",
   "metadata": {
    "pycharm": {
     "name": "#%% md\n"
    }
   },
   "source": [
    "## Multivariate Variables"
   ]
  },
  {
   "attachments": {},
   "cell_type": "markdown",
   "metadata": {
    "pycharm": {
     "name": "#%% md\n"
    }
   },
   "source": [
    "For a bivariate random vector $(X_i,Y_i)$,  \n",
    "\n",
    "* Covariance \n",
    "\n",
    "$$\n",
    "\\hat{\\sigma}_{XY} = \\frac{1}{n} \\sum_{i=1}^n (X_i - \\bar{X}) (Y_i - \\bar{Y}) = \\frac{1}{n} \\sum_{i=1}^n X_i Y_i - \\bar{X} \\bar{Y}.\n",
    "$$\n",
    "\n",
    "* Correlation coefficient \n",
    "\n",
    "$$\n",
    "\\hat{\\rho}_{XY} = \\frac{\\hat{\\sigma}_{XY}} { \\sqrt{ \\hat {\\sigma}^2_{X} \\hat {\\sigma}^2_{Y} }}\n",
    "$$"
   ]
  },
  {
   "cell_type": "code",
   "execution_count": 13,
   "metadata": {
    "pycharm": {
     "name": "#%%\n"
    }
   },
   "outputs": [
    {
     "data": {
      "text/plain": [
       "np.float64(0.6420669756845753)"
      ]
     },
     "execution_count": 13,
     "metadata": {},
     "output_type": "execute_result"
    }
   ],
   "source": [
    "np.corrcoef(d1_log_sub[\"count\"], d1_log_sub[\"view\"])[0, 1]"
   ]
  },
  {
   "attachments": {},
   "cell_type": "markdown",
   "metadata": {},
   "source": [
    "\n",
    "## Regressions\n",
    "\n",
    "In machine learning terminologies, all examples we have talked so far are *unsupervised learning*, which extracts some features from  observed data. \n",
    "Another category is called *supervised learning*, which is to use a few *independent variables* (regressors) to fit a *dependent variables*. The linear regression is a simple example of such a statistical exercise. \n"
   ]
  },
  {
   "attachments": {},
   "cell_type": "markdown",
   "metadata": {},
   "source": [
    "Regression carries out a very simple task. It minimizes the the sum of squared residuals $\\sum_{i=1}^n (y_i - \\hat{y}_i)^2$. \n",
    "In other words, it combines the vector $\\mathbf{x}$ into $\\beta' \\mathbf{x}$ to reduce the variation of $(\\mathbf{y}-\\mathbf{x}'\\beta)$ as much as possible. For any sample $(x_i,y_i)_{i=1}^n$, such an algorithm can be implemented. It has nothing to do with causality.\n",
    "\n",
    "In reality, $(x_i, y_i)$ are observed numbers that the data analyst can only take as given. \n",
    "The *ordinary least squares* is a simple linear algebraic operation.\n",
    "\n",
    "Now we superimpose uncertainty on it. If $X$ is fixed whereas $Y$ is uncertain, we have the conditional model (discriminative model). \n",
    "It is useful for predicting the average outcome of $y$ given an $x$, although not very informative if we are interested in  extrapolating out of the support of the observed $X$. \n",
    "\n",
    "\n"
   ]
  },
  {
   "attachments": {},
   "cell_type": "markdown",
   "metadata": {},
   "source": [
    "\n",
    "If both $(X,Y)$ are uncertain, we have the unconditional model (generative model). The unconditional model can be thought as if it is generated via two steps: \n",
    "First we draw $X$, and then draw $Y|X$. We know $P(X,Y) = P(Y|X)P(X)$. \n",
    "\n",
    "The difference between the conditional model and the unconditional model is more about conceptional difference. They are the same in terms of the linear algebra in the estimation. (Slight difference exits in time series contexts where initial conditions matter in small sample.)\n"
   ]
  },
  {
   "attachments": {},
   "cell_type": "markdown",
   "metadata": {},
   "source": [
    "\n",
    "Let us use the simple regression and elementary algebra to derive the regression coefficient. If both $(X,Y)$ have unit variance, then the regression coefficient is the correlation coefficient. More generally, the regression coefficient is proportional to the correlation coefficient:\n",
    "\n",
    "$$\\beta = \\frac{\\sigma_{xy}}{\\sigma_x^2}=\\frac{\\rho \\sigma_x \\sigma_y}{\\sigma_x^2} = \\rho \\frac{\\sigma_y} {\\sigma_x}.$$\n",
    "\n",
    "Given a sample, we use the observed data to compute $\\hat{\\sigma}_{xy}$ and $\\hat{\\sigma}_x^2$, and thereby $\\hat{\\beta}$ as their ratio.\n",
    "\n"
   ]
  },
  {
   "attachments": {},
   "cell_type": "markdown",
   "metadata": {},
   "source": [
    "## Remarks\n",
    "\n",
    "The beauty of statistics lies in their deep connection with philosophy. A realized sample is a set of given numbers. They are fixed, known, and invariant. But where is uncertainty? Bayesians argue that uncertainty comes from people's belief about the object of interest. The data contain information to help refine or update our beliefs. In contrast, frequentists contend that uncertainty is present  before the numbers, or realizations, are revealed; once the realizations are revealed, uncertainty is gone. \n",
    "\n",
    "The two schools of philosophical thoughts, Bayesian and frequentist, have been contesting over centuries. Either has pros and cons. Nowadays in academic research and in teaching, frequentist remains the mainstream so it is the one that we are more familiar with. However, frequentist interpretation of probability and the resulting implication for statistical inference are not completely natural. Repeated experiments are more easily perceived in physics and other natural science, but may be unrealistic in many economic settings. On the other hand, Bayesian encounters difficulty in reaching a consensus about prior distributions. "
   ]
  },
  {
   "attachments": {},
   "cell_type": "markdown",
   "metadata": {},
   "source": []
  }
 ],
 "metadata": {
  "kernelspec": {
   "display_name": "Python(scrp)",
   "language": "python",
   "name": "scrp"
  },
  "language_info": {
   "codemirror_mode": {
    "name": "ipython",
    "version": 3
   },
   "file_extension": ".py",
   "mimetype": "text/x-python",
   "name": "python",
   "nbconvert_exporter": "python",
   "pygments_lexer": "ipython3",
   "version": "3.11.7"
  }
 },
 "nbformat": 4,
 "nbformat_minor": 2
}