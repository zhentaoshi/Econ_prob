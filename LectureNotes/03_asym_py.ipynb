{
 "cells": [
  {
   "cell_type": "markdown",
   "id": "2f1635d2",
   "metadata": {
    "pycharm": {
     "name": "#%% md\n"
    }
   },
   "source": [
    "# Asymptotics\n",
    "\n",
    "<!-- QL covers basic asymptotic theory -->\n",
    "\n",
    "Asymptotic theory is a set of mathematical tools that invoke limits to simplify our understanding of the behavior of statistics."
   ]
  },
  {
   "cell_type": "markdown",
   "id": "93896fe2",
   "metadata": {
    "pycharm": {
     "name": "#%% md\n"
    }
   },
   "source": [
    "\n",
    "## Modes of Convergence\n",
    "\n",
    "Let $x_{1},x_{2},\\ldots$ be a (countably) infinite\n",
    "sequence of non-random variables.\n",
    "*Convergence* of this non-random sequence means that for any\n",
    "$\\varepsilon>0$, there exists an $N\\left(\\varepsilon\\right)$ such that\n",
    "for all $n>N\\left(\\varepsilon\\right)$, we have\n",
    "$\\left|x_{n}-x\\right|<\\varepsilon.$ \n"
   ]
  },
  {
   "cell_type": "markdown",
   "id": "af7323ca",
   "metadata": {},
   "source": [
    "**Example**\n",
    "\n",
    "$x_{1,n} = 1 + 1/n$ is a sequence, with limit 1. $x_{2,n} = - \\exp(-n)$ is another sequence, with limit 0."
   ]
  },
  {
   "cell_type": "markdown",
   "id": "39117b0e",
   "metadata": {
    "pycharm": {
     "name": "#%% md\n"
    }
   },
   "source": [
    "We learned limits of deterministic sequences in high school. \n",
    "Now, we discuss convergence of a sequence of random variables. Since a random variable\n",
    "is “random”, we must be clear what *convergence* means. Several modes of\n",
    "convergence are widely used.\n"
   ]
  },
  {
   "cell_type": "markdown",
   "id": "1e77791e",
   "metadata": {},
   "source": [
    "\n",
    "We say a sequence of random variables $\\left(x_{n}\\right)$ *converges in\n",
    "probability* to $x$, where $x$ can be either a random variable or a\n",
    "non-random constant, if for any $\\varepsilon>0$ the probability\n",
    "\n",
    "$$\n",
    "P\\left\\{ \\left|x_{n} -x\\right|\\geq\\varepsilon\\right\\} \\to0\n",
    "$$\n",
    "\n",
    "as $n\\to\\infty$. We write $x_{n}\\stackrel{p}{\\to}x$ or\n",
    "$\\mathrm{plim}_{n\\to\\infty}x_{n}=x$.\n"
   ]
  },
  {
   "cell_type": "markdown",
   "id": "95b108de",
   "metadata": {},
   "source": [
    "\n",
    "A sequence of random variables $\\left(x_{n}\\right)$ *converges in\n",
    "squared-mean* to $x$, where $x$ can be either a random variable or a\n",
    "non-random constant, if $E\\left[\\left(x_{n}-x\\right)^{2}\\right]\\to0.$ It\n",
    "is denoted as $x_{n}\\stackrel{m.s.}{\\to}x$.\n",
    "\n",
    "In these definitions either\n",
    "$P\\left\\{ \\left|x_{n}-x\\right|>\\varepsilon\\right\\}$\n",
    "or $E\\left[\\left(x_{n}-x\\right)^{2}\\right]$ is a non-random quantity,\n",
    "and it thus converges to 0 as a non-random sequence under the standard \n",
    "meaning of \"$\\to$\".\n",
    "\n",
    "Squared-mean convergence is stronger than convergence in probability.\n",
    "That is, $x_{n}\\stackrel{m.s.}{\\to}x$ implies $x_{n}\\stackrel{p}{\\to}x$\n",
    "but the converse is untrue. Here is an example.\n"
   ]
  },
  {
   "cell_type": "markdown",
   "id": "62f8e8fd",
   "metadata": {
    "pycharm": {
     "name": "#%% md\n"
    }
   },
   "source": [
    "**Example**\n",
    "\n",
    "$(x_{n})$ is a sequence\n",
    "of binary random variables: $x_{n}=\\sqrt{n}$ with probability $1/n$, and\n",
    "$x_{n}=0$ with probability $1-1/n$. Then $x_{n}\\stackrel{p}{\\to}0$ but\n",
    "$x_{n}\\stackrel{m.s.}{\\nrightarrow}0$. To verify these claims, notice\n",
    "that for any $\\varepsilon>0$, we have\n",
    "$P\\left(\\left|x_{n}-0\\right|<\\varepsilon\\right)=P\\left(x_{n}=0\\right)=1-1/n\\rightarrow1$\n",
    "and thereby $x_{n}\\stackrel{p}{\\to}0$. On the other hand,\n",
    "$E\\left[\\left(x_{n}-0\\right)^{2}\\right]=n\\cdot1/n+0\\cdot(1-1/n)=1\\nrightarrow0,$\n",
    "so $x_{n}\\stackrel{m.s.}{\\nrightarrow}0$.\n"
   ]
  },
  {
   "cell_type": "markdown",
   "id": "5e8d9d30",
   "metadata": {
    "pycharm": {
     "name": "#%% md\n"
    }
   },
   "source": [
    "\n",
    "This example \n",
    "highlights the difference between the two modes of convergence.\n",
    "Convergence in probability does not take account extreme events with small probability. \n",
    "Squared-mean convergence, instead, deals\n",
    "with the average over the entire probability space. If a random variable\n",
    "can take a wild value, with small probability though, it may blow away\n",
    "the squared-mean convergence. On the contrary, such irregularity does\n",
    "not destroy convergence in probability.\n"
   ]
  },
  {
   "cell_type": "markdown",
   "id": "5ea7deae",
   "metadata": {},
   "source": [
    "\n",
    "Both convergence in probability and squared-mean convergence are about\n",
    "convergence of random variables to a target random variable or constant.\n",
    "That is, the distribution of $(x_{n}-x)$ is concentrated around 0 as\n",
    "$n\\to\\infty$. *Convergence in distribution* is, however, about the\n",
    "convergence of CDF, instead of the random variable. \n",
    "\n",
    "Let\n",
    "$F_{n}\\left(\\cdot\\right)$ be the CDF of $x_{n}$ and\n",
    "$F\\left(\\cdot\\right)$ be the CDF of $x$.\n",
    "We say a sequence of random variables $\\left(x_{n}\\right)$ converges in\n",
    "distribution to a random variable $x$ if\n",
    "$F_{n}\\left(a\\right)\\to F\\left(a\\right)$ as $n\\to\\infty$ at each\n",
    "point $a\\in\\mathbb{R}$ where $F\\left(\\cdot\\right)$ is\n",
    "continuous. We write $x_{n}\\stackrel{d}{\\to}x$.\n"
   ]
  },
  {
   "cell_type": "markdown",
   "id": "3267daca",
   "metadata": {
    "pycharm": {
     "name": "#%% md\n"
    }
   },
   "source": [
    "\n",
    "Convergence in distribution is the weakest mode. If\n",
    "$x_{n}\\stackrel{p}{\\to}x$, then $x_{n}\\stackrel{d}{\\to}x$. The converse\n",
    "is untrue in general, unless $x$ is a non-random constant (A constant\n",
    "$x$ can be viewed as a degenerate random variables.)\n"
   ]
  },
  {
   "cell_type": "markdown",
   "id": "3aa44c77",
   "metadata": {},
   "source": [
    "**Example**\n",
    "\n",
    "Let $x\\sim N\\left(0,1\\right)$. If $x_{n}=x+1/n$, then\n",
    "$x_{n}\\stackrel{p}{\\to}x$ and of course $x_{n}\\stackrel{d}{\\to}x$.\n",
    "However, if $x_{n}=-x+1/n$, or $x_{n}=y+1/n$ where\n",
    "$y\\sim N\\left(0,1\\right)$ is independent of $x$, then\n",
    "$x_{n}\\stackrel{d}{\\to}x$ but $x_{n}\\stackrel{p}{\\nrightarrow}x$.\n"
   ]
  },
  {
   "cell_type": "markdown",
   "id": "b1004464",
   "metadata": {},
   "source": [
    "**Example**\n",
    "\n",
    "$(x_{n})$ is a sequence of binary random variables: $x_{n}=n$ with\n",
    "probability $1/\\sqrt{n}$, and $x_{n}=0$ with probability $1-1/\\sqrt{n}$.\n",
    "Then $x_{n}\\stackrel{d}{\\to}x=0.$ Because\n",
    "\n",
    "$$\n",
    "F_{n}\\left(a\\right)=\\begin{cases}\n",
    "0 & a<0\\\\\n",
    "1-1/\\sqrt{n} & 0\\leq a\\leq n\\\\\n",
    "1 & a\\geq n\n",
    "\\end{cases}.\n",
    "$$\n",
    "\n",
    "Let\n",
    "$F \\left(a\\right)=\\begin{cases} 0, & a<0\\\\ 1 & a\\geq0 \\end{cases}$.\n",
    "It is easy to verify that $F_{n}\\left(a\\right)$ converges to\n",
    "$F\\left(a\\right)$ *pointwisely* on each point in $\\mathbb{R}\\backslash \\{0\\}$,\n",
    "where $F\\left(a\\right)$ is continuous.\n"
   ]
  },
  {
   "cell_type": "markdown",
   "id": "36affe64",
   "metadata": {},
   "source": [
    "\n",
    "So far we have talked about convergence of scalar variables. These three\n",
    "modes of convergence can be easily generalized to finite-dimensional random vectors.\n"
   ]
  },
  {
   "cell_type": "markdown",
   "id": "14b1a99f",
   "metadata": {
    "pycharm": {
     "name": "#%% md\n"
    }
   },
   "source": [
    "\n",
    "## Law of Large Numbers\n",
    "\n",
    "Law of large numbers (LLN) is a collection of statements about\n",
    "convergence in probability of the sample average to its population\n",
    "counterpart. The basic form of LLN is:\n",
    "\n",
    "$$\n",
    "\\frac{1}{n}\\sum_{i=1}^{n}(x_{i}-E[x_{i}])\\stackrel{p}{\\to}0\n",
    "$$ \n",
    "\n",
    "as $n\\to\\infty$. Various versions of LLN work under different assumptions\n",
    "about moment restrictions and/or dependence of the underlying random\n",
    "variables.\n"
   ]
  },
  {
   "cell_type": "markdown",
   "id": "5d1a10c7",
   "metadata": {
    "pycharm": {
     "name": "#%% md\n"
    }
   },
   "source": [
    "\n",
    "### Chebyshev LLN\n",
    "\n",
    "We illustrate LLN by the simple example of Chebyshev LLN. It utilizes the *Chebyshev\n",
    "inequality*.\n",
    "\n",
    "The Chebyshev inequality is a special case of the *Markov inequality*.\n",
    "\n",
    "-   *Markov inequality*: If a random variable $x$ has a finite $r$-th\n",
    "    absolute moment $E\\left[\\left|x\\right|^{r}\\right]<\\infty$ for some\n",
    "    $r\\ge1$, then we have\n",
    "    $P\\left\\{ \\left|x\\right|>\\varepsilon\\right\\} \\leq E\\left[\\left|x\\right|^{r}\\right]/\\varepsilon^{r}$\n",
    "    any constant $\\varepsilon>0$. \n",
    "\n",
    "$$\n",
    "\\begin{aligned}E\\left[\\left|x\\right|^{r}\\right] & =\\int_{\\left|x\\right|>\\varepsilon}\\left|x\\right|^{r}dF_{X}+\\int_{\\left|x\\right|\\leq\\varepsilon}\\left|x\\right|^{r}dF_{X}\\\\\n",
    " & \\geq\\int_{\\left|x\\right|>\\varepsilon}\\left|x\\right|^{r}dF_{X}\\\\\n",
    " & \\geq\\varepsilon^{r}\\int_{\\left|x\\right|>\\varepsilon}dF_{X}=\\varepsilon^{r}P\\left\\{ \\left|x\\right|>\\varepsilon\\right\\} .\n",
    "\\end{aligned}\n",
    "$$\n",
    "\n",
    "Rearrange the above inequality and we obtain the Markov\n",
    "inequality.\n",
    "\n"
   ]
  },
  {
   "cell_type": "markdown",
   "id": "ddc23dcc",
   "metadata": {
    "pycharm": {
     "name": "#%% md\n"
    }
   },
   "source": [
    "\n",
    "Let the *partial sum* $S_{n}=\\sum_{i=1}^{n}x_{i}$ where $x_i$ are independently and identically distributed (i.i.d.). Let \n",
    "$\\mu=E\\left[x_{1}\\right]$ and\n",
    "$\\sigma^{2}=\\mathrm{var}\\left[x_{1}\\right]$. We apply the Chebyshev\n",
    "inequality to the sample mean\n",
    "$y_{n}:=\\bar{x}-\\mu=n^{-1}\\left(S_{n}-E\\left[S_{n}\\right]\\right)$. We have\n",
    "\n",
    "$$\n",
    "\\begin{aligned}\n",
    "P\\left\\{ \\left|y_{n}\\right|\\geq\\varepsilon\\right\\}  & =P\\left\\{ n^{-1}\\left|S_{n}-E\\left[S_{n}\\right]\\right|\\geq\\varepsilon\\right\\} \\\\\n",
    " & \\leq E\\left[\\left(n^{-1}\\sum_{i=1}^{n}\\left(x_{i}-\\mu\\right)\\right)^{2}\\right]/\\varepsilon^{2} \\\\\n",
    " & =\\left(n\\varepsilon\\right)^{-2}  E\\left[\\sum_{i=1}^{n}\\left(x_{i}-\\mu\\right)^{2}\\right] \\\\\n",
    " & = \\frac{1} {n\\varepsilon^2} \\sigma^2 \\to 0.\n",
    "\\end{aligned}\n",
    "$$\n",
    " \n"
   ]
  },
  {
   "cell_type": "markdown",
   "id": "09ac806c",
   "metadata": {
    "pycharm": {
     "name": "#%% md\n"
    }
   },
   "source": [
    "This result gives the Chebyshev LLN:\n",
    "\n",
    "-   Chebyshev LLN: If $\\left(x_{1},\\ldots,x_{n}\\right)$ is a sample of\n",
    "    iid observations with $E\\left[x_{1}\\right]=\\mu$ and\n",
    "    $\\sigma^{2}=\\mathrm{var}\\left[x_{1}\\right]<\\infty$, then\n",
    "    $\\frac{1}{n}\\sum_{i=1}^{n}x_{i}\\stackrel{p}{\\to}\\mu.$\n",
    "\n",
    "Another useful LLN is the *Kolmogorov LLN*. Since its derivation\n",
    "requires more advanced knowledge of probability theory, we state the\n",
    "result without proof.\n",
    "\n",
    "-   Kolmogorov LLN: If $\\left(x_{1},\\ldots,x_{n}\\right)$ is a sample of\n",
    "    iid observations and $E\\left[x_{1}\\right]=\\mu$ exists, then\n",
    "    $\\frac{1}{n}\\sum_{i=1}^{n}x_{i}\\stackrel{p}{\\to}\\mu$.\n",
    "\n",
    "Compared with the Chebyshev LLN, the Kolmogorov LLN only requires the\n",
    "existence of the population mean, but not any higher moments. On the\n",
    "other hand, iid is essential for the Kolmogorov LLN.\n"
   ]
  },
  {
   "cell_type": "markdown",
   "id": "27a67e98",
   "metadata": {
    "pycharm": {
     "name": "#%% md\n"
    }
   },
   "source": [
    "**Example** \n",
    "\n",
    "This script demonstrates LLN along with the underlying assumptions.\n",
    "Consider three distributions: standard normal $N\\left(0,1\\right)$,\n",
    "$t\\left(2\\right)$ (zero mean, infinite variance), and the Cauchy\n",
    "distribution (no moments exist). We plot paths of the sample average\n",
    "with $n=2^{1},2^{2},\\ldots,2^{20}$. We will see that the sample averages\n",
    "of $N\\left(0,1\\right)$ and $t\\left(2\\right)$ converge, but that of the\n",
    "Cauchy distribution does not."
   ]
  },
  {
   "cell_type": "code",
   "execution_count": null,
   "id": "b5879e97",
   "metadata": {},
   "outputs": [],
   "source": [
    "import numpy as np\n",
    "from scipy.stats import norm, t, cauchy\n",
    "\n",
    "def sample_mean(n, distribution):\n",
    "    \"\"\"\n",
    "    This function calculates the sample mean for a given distribution.\n",
    "    \n",
    "    Parameters:\n",
    "    - n: Number of samples.\n",
    "    - distribution: Type of distribution ('normal', 't2', or 'cauchy').\n",
    "    \n",
    "    Returns:\n",
    "    - The mean of the generated samples.\n",
    "    \"\"\"\n",
    "    if distribution == \"normal\":\n",
    "        y = norm.rvs(size=n)\n",
    "    elif distribution == \"t2\":\n",
    "        y = t.rvs(df=2, size=n)\n",
    "    elif distribution == \"cauchy\":\n",
    "        y = cauchy.rvs(size=n)\n",
    "    else:\n",
    "        raise ValueError(\"Unsupported distribution\")\n",
    "    \n",
    "    return np.mean(y)"
   ]
  },
  {
   "cell_type": "markdown",
   "id": "159ba664",
   "metadata": {
    "pycharm": {
     "name": "#%% md\n"
    }
   },
   "source": [
    "This function plots the sample mean over the path of geometrically increasing sample sizes."
   ]
  },
  {
   "cell_type": "code",
   "execution_count": null,
   "id": "2ce6a562",
   "metadata": {},
   "outputs": [],
   "source": [
    "import numpy as np\n",
    "import matplotlib.pyplot as plt\n",
    "from scipy.stats import norm, t, cauchy\n",
    "\n",
    "def LLN_plot(distribution):\n",
    "    NN = 2**np.arange(1, 21)  # Sample sizes\n",
    "    ybar = np.zeros((len(NN), 3))\n",
    "    for rr in range(3):\n",
    "        for ii, n in enumerate(NN):\n",
    "            ybar[ii, rr] = sample_mean(n, distribution)\n",
    "    \n",
    "    for i in range(3):\n",
    "        plt.plot(NN, ybar[:, i], label=f'Sample Path {i+1}')\n",
    "    plt.axhline(0, color='grey', linestyle='--')\n",
    "    plt.xscale('log')\n",
    "    plt.xlabel('Sample Size (log scale)')\n",
    "    plt.ylabel('Sample Mean')\n",
    "    plt.title(f'Law of Large Numbers - {distribution.capitalize()} Distribution')\n",
    "    plt.legend()\n",
    "    plt.show()\n",
    "\n",
    "# np.random.seed(2024-7-25) # Set seed for reproducibility\n",
    "\n",
    "\n",
    "# Plotting\n",
    "plt.figure(figsize=(10, 6))\n",
    "LLN_plot(\"normal\")\n",
    "LLN_plot(\"t2\")\n",
    "LLN_plot(\"cauchy\")"
   ]
  },
  {
   "cell_type": "markdown",
   "id": "42c1d65f",
   "metadata": {
    "pycharm": {
     "name": "#%% md\n"
    }
   },
   "source": [
    "\n",
    "## Central Limit Theorem\n",
    "\n",
    "The central limit theorem (CLT) is a collection of statements\n",
    "about the convergence in distribution to a stable distribution. The\n",
    "limiting distribution is usually the Gaussian distribution. \n",
    "\n",
    "<!-- The basic\n",
    "form of the CLT is:\n",
    "\n",
    "-   *Under some conditions to be spelled out*, the sample average of\n",
    "    *zero-mean* random variables $\\left(x_{1},\\ldots,x_{n}\\right)$\n",
    "    multiplied by $\\sqrt{n}$ satisfies\n",
    "\n",
    "    $$\\frac{1}{\\sqrt{n}}\\sum_{i=1}^{n}x_{i}\\stackrel{d}{\\to}N\\left(0,\\sigma^{2}\\right)$$\n",
    "    \n",
    "    as $n\\to\\infty$. -->\n",
    "\n",
    "Various versions of CLT work under different assumptions about the\n",
    "random variables. *Lindeberg-Levy CLT* is the simplest version.\n",
    "\n",
    "-   If the sample $\\left(x_{1},\\ldots,x_{n}\\right)$ is iid,\n",
    "    $E\\left[x_{1}\\right]=0$ and\n",
    "    $\\mathrm{var}\\left[x_{1}\\right]=\\sigma^{2}<\\infty$, then\n",
    "    $\\frac{1}{\\sqrt{n}}\\sum_{i=1}^{n}x_{i}\\stackrel{d}{\\to}N\\left(0,\\sigma^{2}\\right)$."
   ]
  },
  {
   "cell_type": "markdown",
   "id": "012222b1",
   "metadata": {
    "pycharm": {
     "name": "#%% md\n"
    }
   },
   "source": [
    "\n",
    "This is a simulated example.\n"
   ]
  },
  {
   "cell_type": "markdown",
   "id": "77d5cc8d",
   "metadata": {
    "pycharm": {
     "name": "#%% md\n"
    }
   },
   "source": [
    "**Example**\n",
    "\n",
    "$\\chi^2(2)$ distribution with sample sizes $n=2$, $10$, and $100$."
   ]
  },
  {
   "cell_type": "code",
   "execution_count": null,
   "id": "e96ef818",
   "metadata": {},
   "outputs": [],
   "source": [
    "import numpy as np\n",
    "import matplotlib.pyplot as plt\n",
    "from scipy.stats import norm, chi2\n",
    "\n",
    "def Z_fun(n, distribution):\n",
    "    if distribution == \"normal\":\n",
    "        z = np.sqrt(n) * np.mean(np.random.normal(size=n))\n",
    "    elif distribution == \"chisq2\":\n",
    "        df = 2\n",
    "        x = np.random.chisquare(df, n)\n",
    "        z = np.sqrt(n) * (np.mean(x) - df) / np.sqrt(2*df)\n",
    "    return z\n",
    "\n",
    "def CLT_plot(n, distribution):\n",
    "    Rep = 10000\n",
    "    ZZ = np.array([Z_fun(n, distribution) for _ in range(Rep)])\n",
    "    \n",
    "    xbase = np.linspace(-4.0, 4.0, 100)\n",
    "    plt.hist(ZZ, bins=100, density=True, alpha=0.75, \n",
    "             label=f'Sample Size {n}', color='blue')\n",
    "    plt.plot(xbase, norm.pdf(xbase), color='red', label='Standard Normal')\n",
    "    plt.xlim([np.min(xbase), np.max(xbase)])\n",
    "    plt.title(f\"Histogram with sample size {n}\")\n",
    "    plt.legend()\n",
    "    plt.show()\n",
    "\n",
    "# Plotting\n",
    "plt.figure(figsize=(10, 6))\n",
    "CLT_plot(2, \"normal\")\n",
    "CLT_plot(10, \"normal\")\n",
    "<!-- #region drawnote -->\n",
    "<svg id=\"svg\" xmlns=\"http://www.w3.org/2000/svg\" viewbox=\"17.25,10.329999923706055,581.3300170898438,524.6700134277344\" style=\"height:524.6700134277344\"><path d=\"M 66.58,45.67 L 66.58,45 L 65.92,45 L 65.92,44.33 L 65.92,45 L 65.92,45.67 L 66.58,54.33 L 67.25,67 L 67.25,77.67 L 68.58,86.33 L 68.58,91 L 69.25,94.33 L 69.92,97.67 L 69.92,99 L 69.92,99.67 L 69.92,99 L 69.25,95.67 L 67.92,88.33 L 66.58,82.33 L 65.25,74.33 L 63.92,67 L 63.92,57.67 L 65.92,50.33 L 67.92,45.67 L 71.25,41 L 74.58,39 L 77.25,38.33 L 79.25,39.67 L 79.25,42.33 L 77.25,47.67 L 75.25,50.33 L 71.92,53 L 70.58,54.33 L 69.92,54.33 L 70.58,53 L 72.58,51.67 L 75.25,50.33 L 77.25,51 L 78.58,52.33 L 79.25,55.67 L 78.58,59 L 76.58,63.67 L 74.58,66.33 L 72.58,67.67 L 71.25,68.33\" fill=\"none\" stroke=\"#6190e8\" stroke-width=\"2\"></path><path d=\"M 57.92,45.67 L 60.58,39 L 62.58,35.67 L 65.25,31.67 L 67.25,29 L 69.25,26.33 L 70.58,25.67 L 71.92,25.67 L 73.25,27 L 74.58,30.33 L 75.92,33.67 L 77.92,38.33 L 78.58,42.33 L 79.25,43\" fill=\"none\" stroke=\"#6190e8\" stroke-width=\"2\"></path><path d=\"M 95.92,57 L 100.58,56.33 L 104.58,54.33 L 108.58,53 L 111.92,52.33 L 113.92,53\" fill=\"none\" stroke=\"#6190e8\" stroke-width=\"2\"></path><path d=\"M 99.92,63.67 L 105.25,62.33 L 109.25,61.67 L 113.25,61 L 117.25,61 L 118.58,61\" fill=\"none\" stroke=\"#6190e8\" stroke-width=\"2\"></path><path d=\"M 145.92,39 L 146.58,41 L 150.58,46.33 L 153.92,50.33 L 157.25,53.67 L 160.58,57.67 L 163.92,60.33 L 165.92,62.33 L 167.92,65 L 168.58,65.67\" fill=\"none\" stroke=\"#6190e8\" stroke-width=\"2\"></path><path d=\"M 165.92,37.67 L 163.92,37.67 L 162.58,39 L 159.92,41.67 L 156.58,49 L 152.58,58.33 L 149.25,65 L 146.58,69 L 144.58,73 L 141.25,79 L 140.58,82.33 L 139.92,83\" fill=\"none\" stroke=\"#6190e8\" stroke-width=\"2\"></path><path d=\"M 184.58,31 L 181.92,33 L 179.92,36.33 L 177.92,41 L 176.58,46.33 L 176.58,48.33\" fill=\"none\" stroke=\"#6190e8\" stroke-width=\"2\"></path><path d=\"M 197.92,35 L 200.58,37.67 L 201.92,41 L 204.58,44.33 L 207.25,48.33 L 209.25,51 L 213.25,55 L 215.25,58.33 L 217.25,61 L 217.25,61.67\" fill=\"none\" stroke=\"#6190e8\" stroke-width=\"2\"></path><path d=\"M 218.58,31 L 215.92,35 L 210.58,44.33 L 205.92,52.33 L 205.25,54.33 L 203.25,59 L 201.25,63.67 L 199.25,68.33 L 197.25,72.33 L 196.58,74.33\" fill=\"none\" stroke=\"#6190e8\" stroke-width=\"2\"></path><path d=\"M 138.58,29 L 136.58,28.33 L 133.25,29.67 L 129.25,34.33 L 125.25,47 L 125.25,56.33 L 127.25,64.33 L 130.58,71.67 L 133.25,76.33 L 138.58,81 L 147.92,87.67 L 155.25,91\" fill=\"none\" stroke=\"#6190e8\" stroke-width=\"2\"></path><path d=\"M 229.25,33 L 231.92,32.33 L 234.58,34.33 L 237.92,37 L 239.92,43 L 239.92,53 L 238.58,57 L 236.58,61 L 233.92,65.67 L 231.92,69 L 231.25,71 L 231.92,71 L 232.58,70.33\" fill=\"none\" stroke=\"#6190e8\" stroke-width=\"2\"></path><path d=\"M 246.58,29 L 250.58,27 L 253.25,27 L 255.92,27 L 259.25,27\" fill=\"none\" stroke=\"#6190e8\" stroke-width=\"2\"></path><path d=\"M 261.25,20.33 L 259.92,24.33 L 259.25,29 L 258.58,33.67 L 258.58,35\" fill=\"none\" stroke=\"#6190e8\" stroke-width=\"2\"></path><path d=\"M 272.58,29.67 L 275.25,31.67 L 277.92,36.33 L 279.92,41.67 L 281.92,46.33 L 284.58,51 L 286.58,53 L 288.58,55 L 290.58,55\" fill=\"none\" stroke=\"#6190e8\" stroke-width=\"2\"></path><path d=\"M 293.92,29 L 289.92,33 L 283.92,41 L 276.58,51.67 L 272.58,58.33 L 269.25,64.33 L 267.25,67.67 L 265.92,71 L 265.92,73\" fill=\"none\" stroke=\"#6190e8\" stroke-width=\"2\"></path><path d=\"M 310.58,21.67 L 307.92,28.33 L 305.92,33 L 304.58,38.33 L 304.58,39\" fill=\"none\" stroke=\"#6190e8\" stroke-width=\"2\"></path><path d=\"M 319.25,27.67 L 319.25,30.33 L 320.58,33.67 L 322.58,37 L 323.92,39.67 L 325.92,42.33 L 328.58,44.33 L 329.92,44.33\" fill=\"none\" stroke=\"#6190e8\" stroke-width=\"2\"></path><path d=\"M 337.92,26.33 L 335.92,27.67 L 333.25,31 L 329.25,39.67 L 324.58,49.67 L 319.92,59 L 315.25,69 L 309.92,81.67 L 305.92,89.67 L 303.25,96.33 L 300.58,101 L 299.25,104.33 L 297.92,106.33 L 296.58,107.67 L 295.92,107.67\" fill=\"none\" stroke=\"#6190e8\" stroke-width=\"2\"></path><path d=\"M 89.92,169 L 92.58,168.33 L 95.92,167.67 L 99.92,167 L 103.92,167 L 107.25,167.67 L 109.25,167.67 L 109.25,168.33\" fill=\"none\" stroke=\"#6190e8\" stroke-width=\"2\"></path><path d=\"M 93.25,175.67 L 95.92,175.67 L 99.92,175.67 L 105.25,175 L 109.25,175 L 112.58,175 L 113.25,175\" fill=\"none\" stroke=\"#6190e8\" stroke-width=\"2\"></path><path d=\"M 159.92,155.67 L 157.25,157.67 L 155.92,159 L 152.58,165.67 L 149.25,176.33 L 147.25,184.33 L 146.58,190.33 L 147.25,193.67 L 150.58,199.67 L 155.92,204.33 L 161.25,206.33\" fill=\"none\" stroke=\"#6190e8\" stroke-width=\"2\"></path><path d=\"M 351.25,149 L 353.92,149.67 L 355.92,152.33 L 357.25,159.67 L 355.92,170.33 L 351.92,179.67 L 348.58,187 L 346.58,190.33 L 343.25,194.33 L 339.25,199 L 337.25,200.33\" fill=\"none\" stroke=\"#6190e8\" stroke-width=\"2\"></path><path d=\"M 197.92,137.67 L 197.92,140.33 L 197.92,147 L 197.92,155.67 L 197.92,163 L 197.92,167 L 197.25,171.67 L 197.25,175.67 L 196.58,176.33\" fill=\"none\" stroke=\"#6190e8\" stroke-width=\"2\"></path><path d=\"M 175.25,175.67 L 180.58,173 L 185.92,173 L 193.25,173 L 198.58,173.67 L 203.25,173.67 L 206.58,174.33 L 208.58,175 L 209.25,175\" fill=\"none\" stroke=\"#6190e8\" stroke-width=\"2\"></path><path d=\"M 191.25,185 L 190.58,191.67 L 190.58,196.33 L 190.58,200.33 L 190.58,203 L 190.58,205 L 190.58,205.67 L 190.58,205 L 190.58,203 L 191.92,199 L 193.25,193.67 L 196.58,188.33 L 198.58,186.33 L 200.58,187 L 201.92,189 L 202.58,193 L 202.58,197.67 L 203.25,201 L 203.92,203.67 L 205.25,205.67\" fill=\"none\" stroke=\"#6190e8\" stroke-width=\"2\"></path><path d=\"M 220.58,150.33 L 224.58,149 L 228.58,149 L 234.58,148.33 L 239.25,148.33 L 242.58,148.33 L 245.25,148.33 L 246.58,148.33\" fill=\"none\" stroke=\"#6190e8\" stroke-width=\"2\"></path><path d=\"M 219.92,151.67 L 221.92,152.33 L 223.92,154.33 L 225.25,157 L 226.58,160.33 L 227.25,164.33 L 227.92,168.33 L 227.25,172.33 L 225.92,176.33 L 223.25,179.67 L 219.92,183 L 217.92,185 L 217.92,186.33 L 218.58,187.67 L 221.25,189 L 225.92,189.67 L 229.25,189.67 L 231.92,189.67 L 234.58,190.33 L 236.58,190.33 L 239.25,191 L 241.25,191 L 242.58,191.67\" fill=\"none\" stroke=\"#6190e8\" stroke-width=\"2\"></path><path d=\"M 231.25,203.67 L 232.58,207.67 L 233.25,210.33 L 233.25,212.33 L 233.25,213.67 L 233.92,214.33\" fill=\"none\" stroke=\"#6190e8\" stroke-width=\"2\"></path><path d=\"M 233.25,197 L 235.25,199.67 L 235.92,200.33\" fill=\"none\" stroke=\"#6190e8\" stroke-width=\"2\"></path><path d=\"M 262.58,159.67 L 265.92,164.33 L 267.92,169 L 268.58,173 L 269.25,177 L 269.92,179.67 L 270.58,181.67\" fill=\"none\" stroke=\"#6190e8\" stroke-width=\"2\"></path><path d=\"M 273.25,159.67 L 269.25,165 L 266.58,171 L 264.58,175.67 L 262.58,181.67 L 261.92,183 L 261.25,186.33 L 260.58,190.33 L 261.92,193 L 261.92,193.67\" fill=\"none\" stroke=\"#6190e8\" stroke-width=\"2\"></path><path d=\"M 274.58,181.67 L 274.58,185 L 274.58,188.33 L 274.58,189.67 L 273.92,190.33\" fill=\"none\" stroke=\"#6190e8\" stroke-width=\"2\"></path><path d=\"M 276.58,178.33 L 278.58,178.33\" fill=\"none\" stroke=\"#6190e8\" stroke-width=\"2\"></path><path d=\"M 283.25,159.67 L 285.25,162.33 L 286.58,166.33 L 288.58,171.67 L 289.92,175.67 L 291.25,179.67 L 292.58,182.33 L 294.58,183.67 L 295.25,183.67\" fill=\"none\" stroke=\"#6190e8\" stroke-width=\"2\"></path><path d=\"M 299.25,161 L 297.25,165 L 293.25,173.67 L 290.58,180.33 L 290.58,181.67 L 289.92,183.67 L 288.58,186.33 L 289.25,189\" fill=\"none\" stroke=\"#6190e8\" stroke-width=\"2\"></path><path d=\"M 301.92,182.33 L 303.25,184.33 L 303.25,185 L 303.25,187.67 L 303.25,189.67 L 303.25,190.33 L 303.25,189.67\" fill=\"none\" stroke=\"#6190e8\" stroke-width=\"2\"></path><path d=\"M 306.58,175.67 L 307.92,178.33 L 307.92,180.33\" fill=\"none\" stroke=\"#6190e8\" stroke-width=\"2\"></path><path d=\"M 316.58,149 L 315.92,152.33 L 313.25,159.67 L 311.25,165\" fill=\"none\" stroke=\"#6190e8\" stroke-width=\"2\"></path><path d=\"M 360.58,129 L 365.25,131 L 369.25,131.67 L 373.25,132.33 L 375.92,131.67\" fill=\"none\" stroke=\"#6190e8\" stroke-width=\"2\"></path><path d=\"M 380.58,121.67 L 380.58,124.33 L 379.92,129.67 L 377.92,138.33 L 377.25,144.33 L 377.25,147.67 L 377.25,149\" fill=\"none\" stroke=\"#6190e8\" stroke-width=\"2\"></path><path d=\"M 409.25,141.67 L 407.25,143 L 406.58,144.33 L 402.58,151.67 L 398.58,161 L 397.92,164.33 L 396.58,171.67 L 395.92,176.33 L 396.58,179.67 L 398.58,183.67 L 402.58,186.33 L 408.58,187.67 L 413.25,187\" fill=\"none\" stroke=\"#6190e8\" stroke-width=\"2\"></path><path d=\"M 440.58,136.33 L 440.58,146.33 L 439.25,153.67 L 438.58,157.67 L 437.92,161.67 L 436.58,165 L 435.92,165.67\" fill=\"none\" stroke=\"#6190e8\" stroke-width=\"2\"></path><path d=\"M 417.92,167.67 L 421.25,167.67 L 425.92,167.67 L 431.92,167.67 L 437.25,167.67 L 441.92,167.67 L 445.25,168.33 L 448.58,169 L 449.25,169\" fill=\"none\" stroke=\"#6190e8\" stroke-width=\"2\"></path><path d=\"M 435.92,175.67 L 433.92,181 L 433.25,185.67 L 432.58,190.33 L 432.58,193.67 L 432.58,195.67 L 432.58,196.33 L 433.25,193 L 434.58,188.33 L 436.58,183 L 439.92,178.33 L 443.25,176.33 L 445.92,177.67 L 447.25,181 L 447.92,185.67 L 447.25,190.33 L 447.25,194.33 L 447.92,195.67 L 449.25,196.33 L 450.58,196.33\" fill=\"none\" stroke=\"#6190e8\" stroke-width=\"2\"></path><path d=\"M 469.25,141 L 471.92,141 L 478.58,141 L 484.58,141 L 487.92,141.67 L 491.92,142.33 L 493.25,142.33 L 495.25,143 L 495.92,143 L 495.25,143.67\" fill=\"none\" stroke=\"#6190e8\" stroke-width=\"2\"></path><path d=\"M 466.58,146.33 L 469.25,147 L 471.92,149 L 473.92,152.33 L 473.92,156.33 L 471.25,163.67 L 467.25,169 L 463.25,173.67 L 459.92,177.67 L 458.58,180.33 L 459.25,182.33 L 462.58,183.67 L 465.92,183.67 L 470.58,183.67 L 475.92,183 L 480.58,182.33\" fill=\"none\" stroke=\"#6190e8\" stroke-width=\"2\"></path><path d=\"M 506.58,149.67 L 509.25,161 L 510.58,168.33 L 511.92,172.33 L 513.25,175.67 L 514.58,178.33 L 515.25,179 L 515.92,178.33 L 516.58,175.67\" fill=\"none\" stroke=\"#6190e8\" stroke-width=\"2\"></path><path d=\"M 521.92,150.33 L 516.58,158.33 L 509.92,167.67 L 504.58,175 L 501.92,179 L 501.25,182.33 L 500.58,185.67 L 500.58,187 L 501.25,187.67\" fill=\"none\" stroke=\"#6190e8\" stroke-width=\"2\"></path><path d=\"M 527.92,169.67 L 527.25,175 L 526.58,179 L 525.92,182.33 L 525.92,183.67 L 525.92,184.33 L 525.92,183.67\" fill=\"none\" stroke=\"#6190e8\" stroke-width=\"2\"></path><path d=\"M 530.58,163 L 533.25,165.67 L 534.58,168.33 L 535.92,169.67\" fill=\"none\" stroke=\"#6190e8\" stroke-width=\"2\"></path><path d=\"M 542.58,154.33 L 543.92,159.67 L 543.92,163.67 L 545.25,167 L 546.58,168.33 L 547.92,167.67\" fill=\"none\" stroke=\"#6190e8\" stroke-width=\"2\"></path><path d=\"M 554.58,153 L 552.58,156.33 L 547.25,167 L 541.92,177 L 537.25,185.67 L 533.92,191.67 L 531.92,197 L 530.58,201 L 529.92,203.67 L 530.58,203.67 L 531.25,203.67\" fill=\"none\" stroke=\"#6190e8\" stroke-width=\"2\"></path><path d=\"M 550.58,178.33 L 549.92,181.67 L 548.58,186.33 L 547.92,191.67 L 547.25,193.67 L 547.92,192.33\" fill=\"none\" stroke=\"#6190e8\" stroke-width=\"2\"></path><path d=\"M 553.25,172.33 L 555.92,173.67 L 556.58,173.67 L 557.92,173\" fill=\"none\" stroke=\"#6190e8\" stroke-width=\"2\"></path><path d=\"M 569.92,146.33 L 571.92,149.67 L 573.92,159 L 573.25,171 L 569.92,183 L 565.92,195 L 559.25,206.33 L 553.25,211.67 L 547.25,215.67 L 543.25,217\" fill=\"none\" stroke=\"#6190e8\" stroke-width=\"2\"></path><path d=\"M 419.92,221 L 427.25,219 L 439.92,216.33 L 451.25,214.33 L 461.92,212.33 L 471.25,210.33 L 475.92,210.33 L 478.58,210.33 L 479.92,210.33 L 476.58,211.67 L 474.58,212.33\" fill=\"none\" stroke=\"#6190e8\" stroke-width=\"2\"></path><path d=\"M 429.25,223 L 427.92,224.33 L 437.92,223.67 L 451.25,221 L 463.92,219.67 L 473.92,219.67 L 481.92,220.33 L 487.25,221.67 L 489.92,223\" fill=\"none\" stroke=\"#6190e8\" stroke-width=\"2\"></path><path d=\"M 157.92,237 L 161.92,236.33 L 180.58,233 L 195.92,231 L 211.25,228.33 L 224.58,225.67 L 235.92,223.67 L 243.25,221.67 L 247.92,221 L 248.58,221 L 243.92,223 L 233.92,227\" fill=\"none\" stroke=\"#6190e8\" stroke-width=\"2\"></path><path d=\"M 169.25,251.67 L 171.92,250.33 L 184.58,248.33 L 197.92,245.67 L 210.58,243.67 L 221.92,241.67 L 231.25,240.33 L 239.25,240.33 L 245.92,240.33 L 246.58,241\" fill=\"none\" stroke=\"#6190e8\" stroke-width=\"2\"></path><path d=\"M 94.58,285.67 L 94.58,295 L 94.58,304.33 L 94.58,313 L 94.58,315 L 94.58,316.33 L 95.92,314.33 L 99.25,307 L 102.58,298.33 L 103.92,293.67 L 105.25,292.33 L 106.58,293 L 107.25,305 L 106.58,315.67 L 103.25,335.67 L 100.58,345 L 97.92,355 L 95.25,359.67 L 91.92,363 L 87.92,363 L 83.92,359 L 81.92,349 L 83.25,342.33 L 85.92,339.67 L 89.92,337.67 L 97.92,335.67 L 105.25,335.67\" fill=\"none\" stroke=\"#6190e8\" stroke-width=\"2\"></path><path d=\"M 123.25,332.33 L 123.25,336.33 L 123.25,339.67 L 122.58,342.33 L 121.92,344.33 L 122.58,343.67 L 123.25,339.67 L 124.58,335 L 125.25,333 L 127.25,329 L 129.25,327.67 L 130.58,329.67 L 131.25,333.67 L 131.25,339 L 130.58,342.33 L 130.58,344.33\" fill=\"none\" stroke=\"#6190e8\" stroke-width=\"2\"></path><path d=\"M 251.25,325.67 L 249.25,323 L 251.92,321.67 L 257.25,321 L 263.92,321.67 L 270.58,322.33 L 278.58,323 L 284.58,323 L 287.92,323 L 290.58,323 L 291.92,323 L 291.25,322.33\" fill=\"none\" stroke=\"#6190e8\" stroke-width=\"2\"></path><path d=\"M 288.58,318.33 L 291.92,317.67 L 293.92,317.67 L 295.92,319 L 296.58,321 L 295.25,324.33 L 290.58,329.67 L 285.92,333.67 L 281.92,335.67\" fill=\"none\" stroke=\"#6190e8\" stroke-width=\"2\"></path><path d=\"M 269.92,295.67 L 268.58,302.33 L 266.58,312.33 L 265.92,318.33 L 265.92,319.67 L 265.92,323 L 265.92,326.33 L 265.92,327 L 265.92,326.33\" fill=\"none\" stroke=\"#6190e8\" stroke-width=\"2\"></path><path d=\"M 265.92,301.67 L 267.92,299.67 L 272.58,297.67 L 275.25,297.67 L 276.58,299 L 276.58,301 L 275.25,303.67 L 271.92,306.33 L 267.92,309 L 263.92,310.33 L 261.92,311\" fill=\"none\" stroke=\"#6190e8\" stroke-width=\"2\"></path><path d=\"M 431.92,327.67 L 431.25,323.67 L 430.58,322.33 L 428.58,317.67 L 425.25,314.33 L 421.25,312.33 L 416.58,313.67 L 414.58,315.67 L 410.58,321 L 405.92,333 L 404.58,337 L 405.25,339.67 L 407.92,342.33 L 413.25,341.67 L 419.25,339 L 423.25,334.33 L 426.58,329 L 427.92,326.33 L 428.58,326.33 L 427.92,331 L 427.25,336.33 L 426.58,341 L 427.25,345 L 428.58,348.33 L 429.25,350.33\" fill=\"none\" stroke=\"#6190e8\" stroke-width=\"2\"></path><path d=\"M 369.25,283.67 L 369.25,279 L 369.25,277 L 368.58,274.33 L 367.25,272.33 L 365.25,272.33 L 361.92,275.67 L 357.25,285.67 L 355.25,295.67 L 353.92,307 L 353.25,320.33 L 352.58,333 L 353.25,345.67 L 353.92,357 L 354.58,365.67 L 354.58,373 L 353.25,379 L 351.92,381.67 L 349.92,383.67 L 347.92,383 L 345.25,379 L 341.92,369 L 341.25,366.33\" fill=\"none\" stroke=\"#6190e8\" stroke-width=\"2\"></path><path d=\"M 335.92,321 L 339.92,319.67 L 352.58,317.67 L 358.58,317 L 362.58,317.67 L 367.25,318.33 L 369.92,319\" fill=\"none\" stroke=\"#6190e8\" stroke-width=\"2\"></path><path d=\"M 397.92,297.67 L 394.58,298.33 L 387.92,305 L 377.92,321 L 373.92,332.33 L 372.58,341 L 373.92,347.67 L 376.58,351 L 381.25,354.33 L 387.92,357 L 389.92,357.67\" fill=\"none\" stroke=\"#6190e8\" stroke-width=\"2\"></path><path d=\"M 444.58,309.67 L 446.58,318.33 L 447.25,327 L 448.58,333 L 448.58,334.33 L 447.92,338.33 L 443.25,347.67 L 441.25,351 L 436.58,355 L 431.25,358.33\" fill=\"none\" stroke=\"#6190e8\" stroke-width=\"2\"></path><path d=\"M 44.58,275.67 L 40.58,280.33 L 37.25,289 L 35.92,297 L 36.58,305 L 38.58,313.67 L 42.58,323.67 L 46.58,334.33 L 49.92,349 L 51.25,360.33 L 51.25,369 L 50.58,375.67 L 49.92,378.33 L 47.92,381.67 L 44.58,382.33 L 41.25,377 L 37.92,369.67\" fill=\"none\" stroke=\"#6190e8\" stroke-width=\"2\"></path><path d=\"M 27.25,321 L 37.25,317 L 42.58,317.67 L 49.92,318.33 L 55.92,318.33 L 57.92,318.33\" fill=\"none\" stroke=\"#6190e8\" stroke-width=\"2\"></path><path d=\"M 67.25,293 L 64.58,297 L 61.25,308.33 L 59.92,321 L 59.92,332.33 L 61.92,341 L 65.92,349 L 71.92,356.33 L 79.25,362.33 L 83.92,365.67\" fill=\"none\" stroke=\"#6190e8\" stroke-width=\"2\"></path><path d=\"M 144.58,295 L 147.92,297.67 L 155.25,307 L 161.92,323 L 165.25,333 L 166.58,341.67 L 164.58,351 L 160.58,361 L 156.58,369.67 L 154.58,373.67\" fill=\"none\" stroke=\"#6190e8\" stroke-width=\"2\"></path><path d=\"M 51.92,489.67 L 59.92,488.33 L 74.58,487.67 L 91.92,488.33 L 111.92,489.67 L 132.58,492.33 L 146.58,494.33 L 173.25,499 L 191.25,502.33 L 209.92,506.33 L 221.25,509 L 228.58,510.33 L 231.92,510.33 L 233.92,509 L 231.92,505 L 229.92,502.33\" fill=\"none\" stroke=\"#6190e8\" stroke-width=\"2\"></path><path d=\"M 53.25,481 L 55.92,481.67 L 61.25,482.33 L 69.92,480.33 L 76.58,474.33 L 79.25,471.67 L 85.25,463 L 90.58,453.67 L 95.25,444.33 L 101.25,434.33 L 107.25,425.67 L 114.58,418.33 L 123.92,411 L 133.25,405 L 145.25,401.67 L 153.25,404.33 L 159.25,411 L 164.58,422.33 L 169.25,435.67 L 173.25,449.67 L 178.58,463 L 185.25,475.67 L 193.25,486.33 L 201.92,493.67 L 214.58,499.67 L 224.58,500.33 L 231.92,500.33 L 236.58,499.67 L 237.25,499\" fill=\"none\" stroke=\"#6190e8\" stroke-width=\"2\"></path><path d=\"M 136.58,493\" fill=\"none\" stroke=\"#6190e8\" stroke-width=\"2\"></path><path d=\"M 61.25,480.33 L 58.58,479.67 L 57.25,479.67 L 55.25,480.33 L 53.92,482.33 L 52.58,487.67 L 51.92,493 L 51.25,497.67 L 51.92,501.67 L 53.92,505 L 59.25,507.67\" fill=\"none\" stroke=\"#6190e8\" stroke-width=\"2\"></path><path d=\"M 205.25,493 L 207.25,492.33 L 209.25,493 L 211.92,495.67 L 213.92,499 L 216.58,505.67 L 217.25,511 L 217.25,516.33 L 215.92,520.33 L 213.92,524.33 L 213.25,525\" fill=\"none\" stroke=\"#6190e8\" stroke-width=\"2\"></path><path d=\"M 293.25,409 L 293.25,415 L 293.25,419.67 L 294.58,423.67 L 295.92,424.33 L 297.92,423 L 300.58,419.67 L 301.92,417.67 L 303.25,417 L 303.92,419.67 L 304.58,426.33 L 302.58,436.33 L 298.58,450.33 L 294.58,459 L 292.58,462.33 L 290.58,464.33 L 287.92,464.33 L 285.25,459 L 284.58,449 L 285.92,445.67 L 289.92,441.67 L 295.92,439.67 L 303.92,439 L 309.25,440.33 L 309.92,441\" fill=\"none\" stroke=\"#6190e8\" stroke-width=\"2\"></path><path d=\"M 314.58,447.67 L 313.25,457 L 312.58,465.67 L 311.92,474.33 L 311.92,476.33 L 311.92,479 L 312.58,483.67 L 313.25,486.33 L 313.92,487\" fill=\"none\" stroke=\"#6190e8\" stroke-width=\"2\"></path><path d=\"M 312.58,455 L 313.92,452.33 L 316.58,451 L 319.25,451.67 L 321.25,452.33 L 323.25,454.33 L 323.25,455.67 L 321.92,457.67 L 319.25,458.33 L 315.25,459 L 313.92,458.33\" fill=\"none\" stroke=\"#6190e8\" stroke-width=\"2\"></path><path d=\"M 336.58,449 L 341.92,448.33 L 350.58,449 L 358.58,449 L 365.25,449 L 369.92,449 L 373.25,449 L 375.92,449\" fill=\"none\" stroke=\"#6190e8\" stroke-width=\"2\"></path><path d=\"M 365.25,445 L 369.25,445.67 L 373.25,447 L 375.25,449 L 375.25,451.67 L 373.25,454.33 L 369.92,457.67 L 366.58,459 L 365.25,459.67\" fill=\"none\" stroke=\"#6190e8\" stroke-width=\"2\"></path><path d=\"M 353.25,430.33 L 351.25,429.67 L 350.58,429.67\" fill=\"none\" stroke=\"#6190e8\" stroke-width=\"2\"></path><path d=\"M 348.58,422.33 L 348.58,428.33 L 348.58,436.33 L 347.92,441 L 347.92,444.33 L 347.92,447 L 347.92,447.67\" fill=\"none\" stroke=\"#6190e8\" stroke-width=\"2\"></path><path d=\"M 349.92,423 L 352.58,423 L 355.25,423.67 L 356.58,425.67 L 356.58,427.67 L 354.58,429.67 L 351.25,431 L 347.92,432.33 L 345.25,432.33 L 344.58,431.67\" fill=\"none\" stroke=\"#6190e8\" stroke-width=\"2\"></path><path d=\"M 403.92,448.33 L 405.92,443.67 L 406.58,440.33 L 405.92,437.67 L 403.25,437 L 397.92,440.33 L 391.92,447 L 387.92,455.67 L 387.25,460.33 L 387.92,463.67 L 389.92,466.33 L 393.25,467 L 397.92,465 L 402.58,460.33 L 407.25,451.67 L 407.92,449 L 408.58,447.67 L 407.92,448.33 L 407.25,452.33 L 407.25,457 L 407.92,461.67 L 409.92,465.67 L 411.25,467 L 413.25,468.33 L 414.58,467.67\" fill=\"none\" stroke=\"#6190e8\" stroke-width=\"2\"></path><path d=\"M 428.58,455 L 433.25,456.33 L 439.92,456.33 L 447.25,456.33 L 451.25,456.33 L 452.58,455.67 L 455.25,455.67 L 457.92,455 L 457.25,455 L 456.58,455\" fill=\"none\" stroke=\"#6190e8\" stroke-width=\"2\"></path><path d=\"M 434.58,461.67 L 432.58,462.33 L 431.25,463 L 432.58,464.33 L 435.92,465 L 441.25,465 L 446.58,465 L 451.25,464.33 L 454.58,463.67 L 456.58,462.33\" fill=\"none\" stroke=\"#6190e8\" stroke-width=\"2\"></path><path d=\"M 445.25,450.33 L 448.58,450.33 L 454.58,451 L 458.58,452.33 L 461.25,455.67 L 461.25,459 L 459.25,463 L 456.58,467 L 453.92,471 L 451.25,475 L 449.92,476.33\" fill=\"none\" stroke=\"#6190e8\" stroke-width=\"2\"></path><path d=\"M 479.92,441 L 479.92,448.33 L 480.58,454.33 L 481.92,456.33 L 483.25,457.67 L 485.25,457 L 487.25,454.33 L 489.25,450.33 L 490.58,449 L 490.58,449.67 L 491.25,453 L 489.92,462.33 L 489.25,465.67 L 487.25,475 L 484.58,483.67 L 481.92,488.33 L 479.25,491 L 475.92,491.67 L 472.58,489.67 L 471.92,486.33 L 472.58,482.33 L 475.92,478.33 L 481.25,475.67 L 488.58,474.33 L 493.92,474.33 L 495.25,474.33\" fill=\"none\" stroke=\"#6190e8\" stroke-width=\"2\"></path><path d=\"M 501.92,477 L 500.58,479.67 L 499.25,484.33 L 497.25,491.67 L 496.58,497.67 L 496.58,501.67 L 496.58,504.33 L 497.25,505\" fill=\"none\" stroke=\"#6190e8\" stroke-width=\"2\"></path><path d=\"M 497.92,480.33 L 501.92,477.67 L 505.25,477 L 507.25,478.33 L 507.92,480.33 L 507.25,482.33 L 503.25,485 L 499.92,486.33 L 497.25,486.33 L 496.58,485.67 L 496.58,485\" fill=\"none\" stroke=\"#6190e8\" stroke-width=\"2\"></path><path d=\"M 517.25,473 L 520.58,473.67 L 525.92,474.33 L 531.92,475 L 537.92,475 L 541.25,475 L 542.58,475 L 543.25,474.33\" fill=\"none\" stroke=\"#6190e8\" stroke-width=\"2\"></path><path d=\"M 539.92,468.33 L 543.92,467.67 L 547.25,468.33 L 549.92,470.33 L 551.92,472.33 L 553.25,474.33 L 552.58,477 L 549.25,479 L 545.92,481 L 541.92,481.67 L 539.92,481.67\" fill=\"none\" stroke=\"#6190e8\" stroke-width=\"2\"></path><path d=\"M 539.25,457.67 L 537.92,453.67 L 536.58,453 L 535.25,452.33 L 532.58,453.67 L 531.25,455.67 L 531.25,458.33 L 531.92,460.33 L 533.92,461 L 536.58,461 L 538.58,458.33 L 540.58,453.67 L 541.92,445.67 L 542.58,442.33 L 543.25,439.67 L 543.92,439 L 543.92,441.67 L 541.92,449 L 540.58,455 L 539.92,459 L 539.92,462.33 L 539.92,463\" fill=\"none\" stroke=\"#6190e8\" stroke-width=\"2\"></path><path d=\"M 578.58,477.67 L 577.92,475.67 L 576.58,473.67 L 573.25,473.67 L 568.58,475.67 L 564.58,480.33 L 561.92,485.67 L 561.25,491 L 561.92,494.33 L 563.92,495.67 L 567.25,495.67 L 571.25,493.67 L 573.92,489.67 L 575.25,485.67 L 575.92,482.33 L 575.92,480.33 L 575.92,479.67 L 576.58,481 L 577.25,485 L 578.58,490.33 L 580.58,495 L 583.25,500.33 L 586.58,505.67 L 588.58,507.67\" fill=\"none\" stroke=\"#6190e8\" stroke-width=\"2\"></path></svg>  \n",
    "<!-- #endregion -->\n"
   ]
  },
  {
   "cell_type": "markdown",
   "id": "49a39eb0",
   "metadata": {
    "pycharm": {
     "name": "#%% md\n"
    }
   },
   "source": [
    "\n",
    "## Tools for Transformations\n",
    "\n",
    "-   Continuous mapping theorem 1: If $y_{n}\\stackrel{p}{\\to}a$ and\n",
    "    $f\\left(\\cdot\\right)$ is continuous at $a$, then\n",
    "    $f\\left(y_{n}\\right)\\stackrel{p}{\\to}f\\left(a\\right)$.\n",
    "\n",
    "-   Continuous mapping theorem 2: If $z_{n}\\stackrel{d}{\\to} z$ and\n",
    "    $f\\left(\\cdot\\right)$ is continuous almost surely on the support of\n",
    "    $z$, then $f\\left(z_{n}\\right)\\stackrel{d}{\\to}f\\left(z\\right)$.\n",
    "\n",
    "-   Slutsky’s theorem: If \n",
    "    $y_{n}\\stackrel{p}{\\to}a$ and $z_{n}\\stackrel{d}{\\to}z$ and, then\n",
    "\n",
    "    -   $z_{n}+y_{n}\\stackrel{d}{\\to}z+a$\n",
    "\n",
    "    -   $z_{n}y_{n}\\stackrel{d}{\\to}az$\n",
    "\n",
    "    -   $z_{n}/y_{n}\\stackrel{d}{\\to}z/a$ if $a\\neq0$.\n",
    "\n",
    "Slutsky’s theorem consists of special cases of the continuous mapping\n",
    "theorem 2. \n"
   ]
  },
  {
   "cell_type": "markdown",
   "id": "b953d3b4",
   "metadata": {
    "pycharm": {
     "name": "#%% md\n"
    }
   },
   "source": []
  }
 ],
 "metadata": {
  "kernelspec": {
   "display_name": "pytorch",
   "language": "python",
   "name": "python3"
  },
  "language_info": {
   "codemirror_mode": {
    "name": "ipython",
    "version": 3
   },
   "file_extension": ".py",
   "mimetype": "text/x-python",
   "name": "python",
   "nbconvert_exporter": "python",
   "pygments_lexer": "ipython3",
   "version": "3.11.5"
  }
 },
 "nbformat": 4,
 "nbformat_minor": 5
}
